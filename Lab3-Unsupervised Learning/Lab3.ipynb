{
  "nbformat": 4,
  "nbformat_minor": 0,
  "metadata": {
    "colab": {
      "provenance": []
    },
    "kernelspec": {
      "name": "python3",
      "display_name": "Python 3"
    },
    "language_info": {
      "name": "python"
    }
  },
  "cells": [
    {
      "cell_type": "code",
      "execution_count": null,
      "metadata": {
        "id": "KLLwmOKCFHVt",
        "colab": {
          "base_uri": "https://localhost:8080/",
          "height": 493
        },
        "outputId": "ff8bef4a-a685-49f2-ae3d-6467bbe361f9"
      },
      "outputs": [
        {
          "output_type": "stream",
          "name": "stdout",
          "text": [
            "[[ 2. 10.]\n",
            " [ 2.  5.]\n",
            " [ 8.  4.]\n",
            " [ 5.  8.]\n",
            " [ 7.  5.]\n",
            " [ 6.  4.]\n",
            " [ 1.  2.]\n",
            " [ 4.  9.]]\n"
          ]
        },
        {
          "output_type": "display_data",
          "data": {
            "text/plain": [
              "<Figure size 432x288 with 1 Axes>"
            ],
            "image/png": "[encoded data removed]"
          },
          "metadata": {
            "needs_background": "light"
          }
        },
        {
          "output_type": "stream",
          "name": "stdout",
          "text": [
            "[[array([2., 5.], dtype=float32), array([1., 2.], dtype=float32)], [array([8., 4.], dtype=float32), array([7., 5.], dtype=float32), array([6., 4.], dtype=float32)], [array([ 2., 10.], dtype=float32), array([5., 8.], dtype=float32), array([4., 9.], dtype=float32)]]\n",
            "[[1.5       3.5      ]\n",
            " [7.        4.3333335]\n",
            " [3.6666667 9.       ]]\n"
          ]
        }
      ],
      "source": [
        "from matplotlib import axis\n",
        "import pandas as pd;\n",
        "import numpy as np\n",
        "from sklearn.datasets import load_iris\n",
        "from sklearn.preprocessing import StandardScaler\n",
        "import matplotlib.pyplot as plt\n",
        "\n",
        "\n",
        "df = arr = np.array(([[2,10], [2,5], [8,4], [5,8], [7,5], [6,4], [1,2], [4,9]]), dtype=np.float32)\n",
        "print(df)\n",
        "old_cluster = np.array([])\n",
        "def euclidean_distance(x1, x2):\n",
        "    return np.sqrt(np.sum((x1 - x2)**2))\n",
        "\n",
        "def initialize_centroids():\n",
        "    arr = np.array(([[2,5], [8,4], [4,9]]),dtype=np.float32)\n",
        "    #arr = np.array(([[2,10], [5,8], [1,2]]),dtype=np.float32)\n",
        "    return arr\n",
        "\n",
        "def k_means(data_set, k, num_iterations):\n",
        "    centroids = initialize_centroids()\n",
        "    for i in range(num_iterations):\n",
        "        # Assign each data point to the closest centroid\n",
        "        clusters = [[] for _ in range(k)]\n",
        "        for x in data_set:\n",
        "            distances = [euclidean_distance(x, centroid) for centroid in centroids]\n",
        "            closest_centroid_index = np.argmin(distances)\n",
        "            clusters[closest_centroid_index].append(x)\n",
        "\n",
        "        # Update the centroids\n",
        "        for j in range(k):\n",
        "            centroids[j] = np.mean(clusters[j], axis=0)\n",
        "\n",
        "    return clusters, centroids\n",
        "\n",
        "\n",
        "clusters, centroids = k_means(df, k=3, num_iterations=1)\n",
        "  \n",
        "# Plot the clusters and centroids\n",
        "colors = ['r', 'g', 'b']\n",
        "for i, cluster in enumerate(clusters):\n",
        "    for x in cluster:\n",
        "        plt.scatter(x[0], x[1], c=colors[i])\n",
        "    plt.scatter(centroids[i][0], centroids[i][1], marker='x', s=200, linewidths=3, c=colors[i])\n",
        "\n",
        "    plt.xlim(0, 10)\n",
        "    plt.ylim(0,11)\n",
        "plt.show()\n",
        "print(clusters)\n",
        "print(centroids)"
      ]
    },
    {
      "cell_type": "markdown",
      "source": [
        "**Calculate the requiered number of epochs and display the appropriate graph Q4 and Q5**"
      ],
      "metadata": {
        "id": "AdLlMkjGdIzR"
      }
    },
    {
      "cell_type": "code",
      "source": [
        "\n",
        "i = 0\n",
        "total_iter_needed = 0;\n",
        "# Run K-means algorithm\n",
        "for i in range(1,5):\n",
        "  clusters, centroids = k_means(df, k=3, num_iterations=i)\n",
        "  if(np.array_equal(old_cluster, centroids)):\n",
        "    print(\"Stopping\")\n",
        "    total_iter_needed = i\n",
        "    i = 100\n",
        "  else:\n",
        "    old_cluster = centroids\n",
        "    colors = ['r', 'g', 'b']\n",
        "    print(\"\\n\\n\")\n",
        "    plt.title(f'Graph for iteration = {i - 1}')   \n",
        "    for j, cluster in enumerate(clusters):\n",
        "        for x in cluster:\n",
        "            plt.scatter(x[0], x[1], c=colors[j])\n",
        "        plt.scatter(centroids[j][0], centroids[j][1], marker='x', s=200, linewidths=3, c=colors[j])\n",
        "\n",
        "    plt.xlim(0, 10)\n",
        "    plt.ylim(0,11)\n",
        "    \n",
        "    plt.show()\n",
        "    print(clusters)\n",
        "    print(centroids)\n",
        "\n"
      ],
      "metadata": {
        "id": "wM-o5JzWVcXX",
        "colab": {
          "base_uri": "https://localhost:8080/",
          "height": 475
        },
        "outputId": "1b679c29-a697-482c-ee0b-295993e46207"
      },
      "execution_count": null,
      "outputs": [
        {
          "output_type": "stream",
          "name": "stdout",
          "text": [
            "\n",
            "\n",
            "\n"
          ]
        },
        {
          "output_type": "display_data",
          "data": {
            "text/plain": [
              "<Figure size 432x288 with 1 Axes>"
            ],
            "image/png": "[encoded data removed]"
          },
          "metadata": {
            "needs_background": "light"
          }
        },
        {
          "output_type": "stream",
          "name": "stdout",
          "text": [
            "[[array([2., 5.], dtype=float32), array([1., 2.], dtype=float32)], [array([8., 4.], dtype=float32), array([7., 5.], dtype=float32), array([6., 4.], dtype=float32)], [array([ 2., 10.], dtype=float32), array([5., 8.], dtype=float32), array([4., 9.], dtype=float32)]]\n",
            "[[1.5       3.5      ]\n",
            " [7.        4.3333335]\n",
            " [3.6666667 9.       ]]\n",
            "Stopping\n",
            "Stopping\n",
            "Stopping\n"
          ]
        }
      ]
    },
    {
      "cell_type": "markdown",
      "source": [
        "**Q4**:\n",
        "  Therfore the total number of iterations needed is 1, the resulting graphs can be seen above."
      ],
      "metadata": {
        "id": "xjhJL-Uygdi_"
      }
    },
    {
      "cell_type": "code",
      "source": [
        "chunk = pd.read_csv('https://raw.githubusercontent.com/tofighi/MachineLearning/master/datasets/heart.csv', chunksize=300)\n",
        "\n",
        "dfs = next(chunk)\n",
        "dfs2 = next(chunk) #Grabs the remaning \n",
        "data = dfs[['sbp', 'tobacco']]\n",
        "perdicted = dfs2[['sbp', 'tobacco']]\n",
        "comparer = dfs2[['sbp', 'tobacco', 'chd']]\n",
        "print(comparer)\n",
        "\n",
        "\n",
        "data = data.to_numpy()\n",
        "comparer = comparer.to_numpy()\n",
        "perdicted = perdicted.to_numpy()\n",
        "# print(data)\n",
        "def initialize_centroids_set2():\n",
        "    arr = np.array(([[160.0, 12.0], [138, 5]]),dtype=np.float32)\n",
        "    return arr\n",
        "\n",
        "def k_means_DataSet2(data_set, k, num_iterations):\n",
        "    centroids = initialize_centroids_set2()\n",
        "    for i in range(num_iterations):\n",
        "        # Assign each data point to the closest centroid\n",
        "        clusters = [[] for _ in range(k)]\n",
        "        for x in data_set:\n",
        "            distances = [euclidean_distance(x, centroid) for centroid in centroids]\n",
        "            closest_centroid_index = np.argmin(distances)\n",
        "            clusters[closest_centroid_index].append(x)\n",
        "\n",
        "        # Update the centroids\n",
        "        for j in range(k):\n",
        "            centroids[j] = np.mean(clusters[j], axis=0)\n",
        "\n",
        "    return clusters, centroids\n",
        "\n",
        "i = 1\n",
        "while(i != -1 and i < 8):\n",
        "  clusters, centroids_2 = k_means_DataSet2(data, k=2, num_iterations=i)\n",
        "  if(np.array_equal(old_cluster, centroids_2)):\n",
        "    print(\"Stopping\")\n",
        "    total_iter_needed = i\n",
        "    i = -1\n",
        "  else:\n",
        "    i+=1\n",
        "    old_cluster = centroids_2\n",
        "    colors = ['r', 'g']\n",
        "    print(\"\\n\\n\")\n",
        "    plt.title(f'Graph for iteration = {i - 1}')   \n",
        "  for j, cluster in enumerate(clusters):\n",
        "      for x in cluster:\n",
        "          plt.scatter(x[0], x[1], c=colors[j])\n",
        "      plt.scatter(centroids_2[j][0], centroids_2[j][1], marker='x', s=200, linewidths=3, c=colors[j])\n",
        "\n",
        "  \n",
        "  plt.show()\n",
        "  print(centroids_2)"
      ],
      "metadata": {
        "id": "R9DAUdswd6Fz",
        "colab": {
          "base_uri": "https://localhost:8080/",
          "height": 1963
        },
        "outputId": "6d67728f-bf9b-4d54-bcda-1e4965e2962f"
      },
      "execution_count": null,
      "outputs": [
        {
          "output_type": "stream",
          "name": "stdout",
          "text": [
            "     sbp  tobacco  chd\n",
            "300  138     0.00    0\n",
            "301  138     2.27    1\n",
            "302  170     0.00    0\n",
            "303  128     0.00    1\n",
            "304  136     1.20    0\n",
            "..   ...      ...  ...\n",
            "457  214     0.40    0\n",
            "458  182     4.20    1\n",
            "459  108     3.00    0\n",
            "460  118     5.40    0\n",
            "461  132     0.00    1\n",
            "\n",
            "[162 rows x 3 columns]\n",
            "\n",
            "\n",
            "\n"
          ]
        },
        {
          "output_type": "display_data",
          "data": {
            "text/plain": [
              "<Figure size 432x288 with 1 Axes>"
            ],
            "image/png": "[encoded data removed]"
          },
          "metadata": {
            "needs_background": "light"
          }
        },
        {
          "output_type": "stream",
          "name": "stdout",
          "text": [
            "[[166.20338     5.5989833]\n",
            " [128.36514     3.1824067]]\n",
            "\n",
            "\n",
            "\n"
          ]
        },
        {
          "output_type": "display_data",
          "data": {
            "text/plain": [
              "<Figure size 432x288 with 1 Axes>"
            ],
            "image/png": "[encoded data removed]"
          },
          "metadata": {
            "needs_background": "light"
          }
        },
        {
          "output_type": "stream",
          "name": "stdout",
          "text": [
            "[[163.88235     5.215588 ]\n",
            " [127.57758     3.2010345]]\n",
            "\n",
            "\n",
            "\n"
          ]
        },
        {
          "output_type": "display_data",
          "data": {
            "text/plain": [
              "<Figure size 432x288 with 1 Axes>"
            ],
            "image/png": "[encoded data removed]"
          },
          "metadata": {
            "needs_background": "light"
          }
        },
        {
          "output_type": "stream",
          "name": "stdout",
          "text": [
            "[[162.65753     5.2238355]\n",
            " [127.17181     3.1540089]]\n",
            "\n",
            "\n",
            "\n"
          ]
        },
        {
          "output_type": "display_data",
          "data": {
            "text/plain": [
              "<Figure size 432x288 with 1 Axes>"
            ],
            "image/png": "[encoded data removed]"
          },
          "metadata": {
            "needs_background": "light"
          }
        },
        {
          "output_type": "stream",
          "name": "stdout",
          "text": [
            "[[162.41891     5.276216 ]\n",
            " [127.09292     3.1276991]]\n",
            "Stopping\n"
          ]
        },
        {
          "output_type": "display_data",
          "data": {
            "text/plain": [
              "<Figure size 432x288 with 1 Axes>"
            ],
            "image/png": "[encoded data removed]"
          },
          "metadata": {
            "needs_background": "light"
          }
        },
        {
          "output_type": "stream",
          "name": "stdout",
          "text": [
            "[[162.41891     5.276216 ]\n",
            " [127.09292     3.1276991]]\n"
          ]
        }
      ]
    },
    {
      "cell_type": "code",
      "source": [
        "true = 0\n",
        "false = 0\n",
        "wrong = 0\n",
        "for i in comparer:\n",
        "  opt1 = euclidean_distance(i[:1], centroids_2[0])\n",
        "  opt2 = euclidean_distance(i[:1], centroids_2[1])\n",
        "  if(opt1 < opt2 and i[2] == 1):\n",
        "    true += 1\n",
        "  elif(opt2 < opt1 and i[2] == 0):\n",
        "    false += 1\n",
        "  else:\n",
        "    wrong += 1\n",
        "  \n",
        "print(f\"True Positive {true}\")\n",
        "print(f\"True Negative {false}\")\n",
        "print(f\"False positive False Negative {wrong}\")\n",
        "\n",
        "accuracy = (true + false)/(true + false + wrong)\n",
        "\n",
        "print(f\"The accuract is: {accuracy}\")"
      ],
      "metadata": {
        "id": "bf35Y_TMjHcA",
        "colab": {
          "base_uri": "https://localhost:8080/"
        },
        "outputId": "917a48ee-7a9e-4d6e-a620-92221e9d6526"
      },
      "execution_count": null,
      "outputs": [
        {
          "output_type": "stream",
          "name": "stdout",
          "text": [
            "True Positive 35\n",
            "True Negative 65\n",
            "False positive False Negative 62\n",
            "The accuract is: 0.6172839506172839\n"
          ]
        }
      ]
    },
    {
      "cell_type": "markdown",
      "source": [
        "**Q8 perdicted graph**"
      ],
      "metadata": {
        "id": "AXNhZM2P2Uce"
      }
    },
    {
      "cell_type": "code",
      "source": [
        "def initialize_centroids_set3():\n",
        "  #initalize centroid to ones we solved above\n",
        "    return centroids_2\n",
        "\n",
        "def k_means_DataSet2(data_set, k, num_iterations):\n",
        "    centroids = initialize_centroids_set3()\n",
        "    for i in range(num_iterations):\n",
        "        # Assign each data point to the closest centroid\n",
        "        clusters = [[] for _ in range(k)]\n",
        "        for x in data_set:\n",
        "            distances = [euclidean_distance(x, centroid) for centroid in centroids]\n",
        "            closest_centroid_index = np.argmin(distances)\n",
        "            clusters[closest_centroid_index].append(x)\n",
        "\n",
        "        # Update the centroids\n",
        "        # for j in range(k):\n",
        "        #     centroids[j] = np.mean(clusters[j], axis=0)\n",
        "\n",
        "    return clusters, centroids\n",
        "\n",
        "\n",
        "clusters, centroids_2 = k_means_DataSet2(perdicted, k=2, num_iterations=1)\n",
        "labels = [\"CHD = 0\", \"CHD = 1\"]\n",
        "plt.title(f'Perdicted K-means Clustering')   \n",
        "for j, cluster in enumerate(clusters):\n",
        "    for x in cluster:\n",
        "        plt.scatter(x[0], x[1], c=colors[j])\n",
        "    plt.scatter(centroids_2[j][0], centroids_2[j][1], marker='x', s=200, linewidths=3, c=colors[j], label=labels[j])\n",
        "\n",
        "plt.legend(loc='upper left')\n",
        "plt.show()"
      ],
      "metadata": {
        "colab": {
          "base_uri": "https://localhost:8080/",
          "height": 281
        },
        "id": "qGXISuTu2TlG",
        "outputId": "da940ca7-37b8-4098-a274-43a640e96892"
      },
      "execution_count": null,
      "outputs": [
        {
          "output_type": "display_data",
          "data": {
            "text/plain": [
              "<Figure size 432x288 with 1 Axes>"
            ],
            "image/png": "[encoded data removed]"
          },
          "metadata": {
            "needs_background": "light"
          }
        }
      ]
    },
    {
      "cell_type": "code",
      "source": [
        "tmp = dfs2[['sbp', 'tobacco', 'chd']]\n",
        "chd_1 = (tmp[(tmp['chd']==1)])\n",
        "chd_2 = (tmp[(tmp['chd']==0)])\n",
        "#Actual 0 and ones\n",
        "chd_1 = chd_1[['sbp', 'tobacco']].to_numpy()\n",
        "chd_2 = chd_2[['sbp', 'tobacco']].to_numpy()\n",
        "\n",
        "\n",
        "\n",
        "for i in chd_2[1:]:\n",
        "  plt.scatter(i[0], i[1], c='r')\n",
        "for i in chd_1[1:]:\n",
        "  plt.scatter(i[0], i[1], c='g')\n",
        "\n",
        "plt.scatter(chd_1[0][0], chd_1[0][1], c='g', label=\"CHD = 1\")\n",
        "plt.scatter(chd_2[0][0], chd_2[0][1], c='r', label=\"CHD = 0\")\n",
        "plt.title(f'Actual result of K-means Clustering')  \n",
        "plt.legend(loc='upper left')\n",
        "plt.show()"
      ],
      "metadata": {
        "colab": {
          "base_uri": "https://localhost:8080/",
          "height": 281
        },
        "id": "UI4r1zamKEBg",
        "outputId": "a8494d11-1057-4b4c-aa6b-2d26a06e0744"
      },
      "execution_count": null,
      "outputs": [
        {
          "output_type": "display_data",
          "data": {
            "text/plain": [
              "<Figure size 432x288 with 1 Axes>"
            ],
            "image/png": "[encoded data removed]"
          },
          "metadata": {
            "needs_background": "light"
          }
        }
      ]
    },
    {
      "cell_type": "markdown",
      "source": [
        "**Part B**"
      ],
      "metadata": {
        "id": "JmifDxlI3W1O"
      }
    },
    {
      "cell_type": "code",
      "source": [
        "def nearest_neighbor_NN(ref_pt, points, min_dist):\n",
        "    nearest_pt = -1\n",
        "    for i, p in enumerate(points):\n",
        "        if not np.array_equal(p, ref_pt):\n",
        "            distance = np.sqrt(np.sum((ref_pt - p)**2)) \n",
        "            if (distance < min_dist):\n",
        "                nearest_pt = i\n",
        "    return nearest_pt\n",
        "\n",
        "def clustering(X, thresh):\n",
        "    clusters = [set([i]) for i in range(len(X))]\n",
        "    for i, p in enumerate(X):\n",
        "        nearest_index = nearest_neighbor_NN(p, X, thresh)\n",
        "        if nearest_index != -1:\n",
        "            if euclidean_distance(p, X[nearest_index]) < thresh:\n",
        "                cluster1 = next((cluster for cluster in clusters if i in cluster))\n",
        "                cluster2 = next((cluster for cluster in clusters if nearest_index in cluster))\n",
        "                if cluster1 != cluster2:\n",
        "                    clusters.remove(cluster2)\n",
        "                    cluster1 |= cluster2\n",
        "            else:\n",
        "                clusters.append(set([i]))\n",
        "\n",
        "    # Create a color map with a unique color for each cluster\n",
        "    clusters = [list(cluster) for cluster in clusters]\n",
        "    #colors = plt.cm.nipy_spectral(np.linspace(0, 1, len(clusters)))\n",
        "    col = ['r', 'g', 'b']\n",
        "    # Plot each point with its corresponding color\n",
        "    for i, cluster in enumerate(clusters):\n",
        "      plt.scatter(X[cluster, 0], X[cluster, 1], color=col[i])\n",
        "\n",
        "    plt.title(f'Nearest Neighbour Clustering ') \n",
        "    plt.show()\n",
        "    return clusters\n",
        "\n",
        "X = np.array([[2,10],[2,5],[8,4],[5,8],[7,5],[6,4],[1,2],[4,9]])\n",
        "# nearestNeighbor(dataset,4)\n",
        "l = 0;\n",
        "clusters = clustering(X,4)\n",
        "clus_ans = np.array([])\n",
        "print(clusters)\n",
        "for i in clusters:\n",
        "  l += 1\n",
        "  for j in i:\n",
        "    print(X[j])\n"
      ],
      "metadata": {
        "colab": {
          "base_uri": "https://localhost:8080/",
          "height": 437
        },
        "id": "MlN9hKLo7t8X",
        "outputId": "3bb581f0-baa4-4fb6-eedd-0d1c984e1f5e"
      },
      "execution_count": null,
      "outputs": [
        {
          "output_type": "display_data",
          "data": {
            "text/plain": [
              "<Figure size 432x288 with 1 Axes>"
            ],
            "image/png": "[encoded data removed]"
          },
          "metadata": {
            "needs_background": "light"
          }
        },
        {
          "output_type": "stream",
          "name": "stdout",
          "text": [
            "[[1, 6], [0, 3, 7], [2, 4, 5]]\n",
            "[2 5]\n",
            "[1 2]\n",
            "[ 2 10]\n",
            "[5 8]\n",
            "[4 9]\n",
            "[8 4]\n",
            "[7 5]\n",
            "[6 4]\n"
          ]
        }
      ]
    },
    {
      "cell_type": "markdown",
      "source": [
        "**Part B data set 2**"
      ],
      "metadata": {
        "id": "lnUKJbIS3QMW"
      }
    },
    {
      "cell_type": "code",
      "source": [
        "chunk = pd.read_csv('https://raw.githubusercontent.com/tofighi/MachineLearning/master/datasets/heart.csv', chunksize=300)\n",
        "\n",
        "dfs = next(chunk)\n",
        "dfs2 = next(chunk) #Grabs the remaning \n",
        "data = dfs[['sbp', 'tobacco']]\n",
        "perdicted = dfs2[['sbp', 'tobacco']].to_numpy()\n",
        "comparer = dfs2[['sbp', 'tobacco', 'chd']].to_numpy()\n",
        "\n",
        "\n",
        "\n",
        "#X = np.array([[2,10],[2,5],[8,4],[5,8],[7,5],[6,4],[1,2],[4,9]])\n",
        "# nearestNeighbor(dataset,4)\n",
        "\n",
        "clusters = clustering(perdicted,40)\n",
        "\n",
        "#print(comparer)\n",
        "\n",
        "tp = 0\n",
        "tn = 0\n",
        "wr = 0\n",
        "l = 0;\n",
        "for i in clusters:\n",
        "  for j in i:\n",
        "    if(comparer[j][2] == 1 and  l == 1):\n",
        "      tp += 1\n",
        "    elif(comparer[j][2] == 0 and l == 0):\n",
        "      tn += 1\n",
        "    else:\n",
        "      wr += 1\n",
        "  l += 1\n",
        "# print(tp)\n",
        "# print(tn)\n",
        "# print(wr)\n",
        "accuracy = (tp + tn)/(tp + tn + wr)\n",
        "print(accuracy)"
      ],
      "metadata": {
        "colab": {
          "base_uri": "https://localhost:8080/",
          "height": 298
        },
        "id": "TyT17ri53P6n",
        "outputId": "3673d19e-a006-40f7-9fb6-e88e13d5af80"
      },
      "execution_count": null,
      "outputs": [
        {
          "output_type": "display_data",
          "data": {
            "text/plain": [
              "<Figure size 432x288 with 1 Axes>"
            ],
            "image/png": "[encoded data removed]"
          },
          "metadata": {
            "needs_background": "light"
          }
        },
        {
          "output_type": "stream",
          "name": "stdout",
          "text": [
            "0.7222222222222222\n"
          ]
        }
      ]
    },
    {
      "cell_type": "markdown",
      "source": [
        "**Part C**"
      ],
      "metadata": {
        "id": "iYhhVRk1U30V"
      }
    },
    {
      "cell_type": "code",
      "source": [
        "def DB_Scan(ref_pt, points, eps):\n",
        "    nearest_pt = -1\n",
        "    for i, p in enumerate(points):\n",
        "        if not np.array_equal(p, ref_pt):\n",
        "            distance = np.sqrt(np.sum((ref_pt - p)**2)) \n",
        "            if distance < eps:\n",
        "                nearest_pt = i\n",
        "    return nearest_pt\n",
        "\n",
        "\n",
        "\n",
        "def clustering_DB(X, eps, min_pts):\n",
        "    clusters = [set([i]) for i in range(len(X))]\n",
        "    for i, p in enumerate(X):\n",
        "        nearest_index = DB_Scan(p, X, eps)\n",
        "        if nearest_index != -1:\n",
        "            if euclidean_distance(p, X[nearest_index]) < eps:\n",
        "                cluster1 = next((cluster for cluster in clusters if i in cluster))\n",
        "                cluster2 = next((cluster for cluster in clusters if nearest_index in cluster))\n",
        "                if cluster1 != cluster2:\n",
        "                    clusters.remove(cluster2)\n",
        "                    cluster1 |= cluster2\n",
        "            else:\n",
        "                clusters.append(set([i]))\n",
        "\n",
        "    # Create a color map with a unique color for each cluster\n",
        "    clusters = [list(cluster) for cluster in clusters]\n",
        "    colors = ['r', 'g', 'b']\n",
        "   \n",
        "    noise = []\n",
        "    i = 0\n",
        "    while(i < len(clusters)):\n",
        "      if(len(clusters[i]) < min_pts):\n",
        "        print(f\"Noise clusters: {clusters[i]}\")\n",
        "        noise.append(clusters[i])\n",
        "        clusters.remove(clusters[i])\n",
        "      else:\n",
        "        i += 1\n",
        "\n",
        "\n",
        "    for i, cluster in enumerate(clusters):\n",
        "      plt.scatter(X[cluster, 0], X[cluster, 1], color=colors[i])\n",
        "\n",
        "    for i, noise in enumerate(noise):\n",
        "      plt.scatter(X[noise, 0], X[noise, 1], color='c')\n",
        "\n",
        "    plt.title(f'Db Scan Clustering ') \n",
        "    plt.show()\n",
        "\n",
        "    return clusters, noise\n",
        "\n",
        "X = np.array([[2,10],[2,5],[8,4],[5,8],[7,5],[6,4],[1,2],[4,9]])\n",
        "# nearestNeighbor(dataset,4)\n",
        "l = 0;\n",
        "clusters, noise = clustering_DB(X,2, 2)\n",
        "clus_ans = np.array([])\n",
        "print(clusters)\n",
        "print(\"\\n\")\n",
        "for i in clusters:\n",
        "  l += 1\n",
        "  print(\"Cluster n\")\n",
        "  for j in i:\n",
        "    print(X[j])"
      ],
      "metadata": {
        "colab": {
          "base_uri": "https://localhost:8080/",
          "height": 507
        },
        "id": "sVRwoH4NGN9Q",
        "outputId": "77e31d49-f8df-4416-ffb7-d07db46cd0b2"
      },
      "execution_count": null,
      "outputs": [
        {
          "output_type": "stream",
          "name": "stdout",
          "text": [
            "Noise clusters: [0]\n",
            "Noise clusters: [1]\n",
            "Noise clusters: [6]\n"
          ]
        },
        {
          "output_type": "display_data",
          "data": {
            "text/plain": [
              "<Figure size 432x288 with 1 Axes>"
            ],
            "image/png": "[encoded data removed]"
          },
          "metadata": {
            "needs_background": "light"
          }
        },
        {
          "output_type": "stream",
          "name": "stdout",
          "text": [
            "[[2, 4, 5], [3, 7]]\n",
            "\n",
            "\n",
            "Cluster n\n",
            "[8 4]\n",
            "[7 5]\n",
            "[6 4]\n",
            "Cluster n\n",
            "[5 8]\n",
            "[4 9]\n"
          ]
        }
      ]
    },
    {
      "cell_type": "code",
      "source": [
        "\n",
        "X = np.array([[2,10],[2,5],[8,4],[5,8],[7,5],[6,4],[1,2],[4,9]])\n",
        "# nearestNeighbor(dataset,4)\n",
        "l = 0;\n",
        "clusters, noise = clustering_DB(X,3.17, 2)\n",
        "clus_ans = np.array([])\n",
        "print(clusters)\n",
        "print(\"\\n\")\n",
        "for i in clusters:\n",
        "  l += 1\n",
        "  print(\"Cluster n\")\n",
        "  for j in i:\n",
        "    print(X[j])"
      ],
      "metadata": {
        "colab": {
          "base_uri": "https://localhost:8080/",
          "height": 524
        },
        "id": "8QoGCeGndl_4",
        "outputId": "e74cabc9-8a5f-4bb4-b6de-b2d488039005"
      },
      "execution_count": null,
      "outputs": [
        {
          "output_type": "display_data",
          "data": {
            "text/plain": [
              "<Figure size 432x288 with 1 Axes>"
            ],
            "image/png": "[encoded data removed]"
          },
          "metadata": {
            "needs_background": "light"
          }
        },
        {
          "output_type": "stream",
          "name": "stdout",
          "text": [
            "[[1, 6], [0, 3, 7], [2, 4, 5]]\n",
            "\n",
            "\n",
            "Cluster n\n",
            "[2 5]\n",
            "[1 2]\n",
            "Cluster n\n",
            "[ 2 10]\n",
            "[5 8]\n",
            "[4 9]\n",
            "Cluster n\n",
            "[8 4]\n",
            "[7 5]\n",
            "[6 4]\n"
          ]
        }
      ]
    },
    {
      "cell_type": "code",
      "source": [
        "chunk = pd.read_csv('https://raw.githubusercontent.com/tofighi/MachineLearning/master/datasets/heart.csv', chunksize=300)\n",
        "\n",
        "dfs = next(chunk)\n",
        "dfs2 = next(chunk) #Grabs the remaning \n",
        "data = dfs[['sbp', 'tobacco']]\n",
        "perdicted = dfs2[['sbp', 'tobacco']].to_numpy()\n",
        "comparer = dfs2[['sbp', 'tobacco', 'chd']].to_numpy()\n",
        "\n",
        "\n",
        "\n",
        "#X = np.array([[2,10],[2,5],[8,4],[5,8],[7,5],[6,4],[1,2],[4,9]])\n",
        "# nearestNeighbor(dataset,4)\n",
        "\n",
        "clusters, noise = clustering_DB(perdicted,20, 10)\n",
        "print(clusters)\n",
        "\n",
        "tp = 0\n",
        "tn = 0\n",
        "fp = 0\n",
        "fn = 0\n",
        "l = 0;\n",
        "for i in clusters:\n",
        "  for j in i:\n",
        "    if(comparer[j][2] == 1 and l == 0):\n",
        "      tp += 1\n",
        "    elif(comparer[j][2] == 0 and l == 1):\n",
        "      tn += 1\n",
        "    elif(comparer[j][2] == 0 and l == 0):\n",
        "      fp += 1\n",
        "    else:\n",
        "      fn += 1\n",
        "  l += 1\n",
        "# print(tp)\n",
        "# print(tn)\n",
        "# print(wr)\n",
        "#Assumption: Assuming that all noise points are false negatives \n",
        "accuracy = (tp + tn)/(tp + tn + fn + fp)\n",
        "print(accuracy)"
      ],
      "metadata": {
        "colab": {
          "base_uri": "https://localhost:8080/",
          "height": 353
        },
        "id": "QjHt34bRVDMr",
        "outputId": "3029a4bb-b0f8-43b2-eb98-64189a71195b"
      },
      "execution_count": null,
      "outputs": [
        {
          "output_type": "stream",
          "name": "stdout",
          "text": [
            "Noise clusters: [113, 97, 103, 107, 157]\n"
          ]
        },
        {
          "output_type": "display_data",
          "data": {
            "text/plain": [
              "<Figure size 432x288 with 1 Axes>"
            ],
            "image/png": "[encoded data removed]"
          },
          "metadata": {
            "needs_background": "light"
          }
        },
        {
          "output_type": "stream",
          "name": "stdout",
          "text": [
            "[[2, 10, 12, 13, 142, 15, 14, 18, 20, 22, 152, 25, 156, 30, 158, 35, 42, 45, 46, 49, 52, 59, 63, 64, 79, 85, 89, 91, 92, 93, 96, 102, 104, 106, 110, 111, 112, 116, 117, 121, 123], [0, 1, 3, 4, 5, 6, 7, 8, 9, 11, 16, 17, 19, 21, 23, 24, 26, 27, 28, 29, 31, 32, 33, 34, 36, 37, 38, 39, 40, 41, 43, 44, 47, 48, 50, 51, 53, 54, 55, 56, 57, 58, 60, 61, 62, 65, 66, 67, 68, 69, 70, 71, 72, 73, 74, 75, 76, 77, 78, 80, 81, 82, 83, 84, 86, 87, 88, 90, 94, 95, 98, 99, 100, 101, 105, 108, 109, 114, 115, 118, 119, 120, 122, 124, 125, 126, 127, 128, 129, 130, 131, 132, 133, 134, 135, 136, 137, 138, 139, 140, 141, 143, 144, 145, 146, 147, 148, 149, 150, 151, 153, 154, 155, 159, 160, 161]]\n",
            "0.6878980891719745\n"
          ]
        }
      ]
    },
    {
      "cell_type": "markdown",
      "source": [
        "**Accuracy and comparision**"
      ],
      "metadata": {
        "id": "2k9pVHXXKpWb"
      }
    },
    {
      "cell_type": "markdown",
      "source": [
        "The accuracy for the K-N means algorithm is 62%, for the nearest neighbor algorithm with a threshold of 40, the accuracy is 72%. Lastly, the DB scan algorithm has an accuracy of 69% when DB scan has an epsilon value of 20 and a min number of 10 points per cluster. \n",
        "\n",
        "This data was extrapolated by running the previous algorithms above. From this data, we can surmise that the most accurate algorithm is the nearest neighbor algorithm (NN). However, if we change the epsilon value to be 40 then the accuracy of DB scan and nearest neighbor would be the same. Another advantage of nearest neighbor and DB scan is that it only requires one iteration to complete, you do not need to train the data set.\n",
        "\n",
        "Lastly, if we wanted to make data more accurate we could also take advantage of the noise clusters in the DB scan. This algorithm allows us to remove data points that are outliers, this means that the points will neither be truly positive, negative nor false positive or negative. For this scenario, it is best to use the nearest neighbor algorithm. However, for different scenarios, different algorithms are preferred. \n"
      ],
      "metadata": {
        "id": "Gh3T_QFILGJ7"
      }
    },
    {
      "cell_type": "markdown",
      "source": [
        "**Part D**"
      ],
      "metadata": {
        "id": "p2aSPxe2Nizs"
      }
    },
    {
      "cell_type": "code",
      "source": [
        "from sklearn.cluster import KMeans\n",
        "import numpy as np\n",
        "\n",
        "chunk = pd.read_csv('https://raw.githubusercontent.com/tofighi/MachineLearning/master/datasets/heart.csv', chunksize=300)\n",
        "\n",
        "dfs = next(chunk)\n",
        "dfs2 = next(chunk) #Grabs the remaning \n",
        "data = dfs[['sbp', 'tobacco']]\n",
        "perdicted = dfs2[['sbp', 'tobacco']].to_numpy()\n",
        "# comparer = dfs2[['sbp', 'tobacco', 'chd']].to_numpy()\n",
        "\n",
        "kmeans = KMeans(n_clusters=2, random_state=0, n_init=\"auto\").fit(data)\n",
        "kmeans.labels_\n",
        "\n",
        "kmeans.predict(data)\n",
        "\n",
        "print(\"Sklearn Clusters:  \",kmeans.cluster_centers_)"
      ],
      "metadata": {
        "id": "I-Rli8NWbJX5",
        "colab": {
          "base_uri": "https://localhost:8080/"
        },
        "outputId": "86135035-a90b-442a-8f37-c6d3aa67375b"
      },
      "execution_count": null,
      "outputs": [
        {
          "output_type": "stream",
          "name": "stdout",
          "text": [
            "Sklearn Clusters:   [[126.55251142   3.16351598]\n",
            " [160.82716049   4.9937037 ]]\n"
          ]
        }
      ]
    },
    {
      "cell_type": "markdown",
      "source": [
        "**Nearest Neighbour**"
      ],
      "metadata": {
        "id": "XcAKGUnkTOLV"
      }
    },
    {
      "cell_type": "code",
      "source": [
        "from sklearn.cluster import DBSCAN\n",
        "import numpy as np\n",
        "dbscan = DBSCAN(eps=5, min_samples=10).fit(perdicted)\n",
        "print(\"sklearn Values\",dbscan.labels_)\n",
        "print(len(dbscan.labels_))\n",
        "labels = dbscan.labels_\n",
        "n_clusters = len(set(labels)) - (1 if -1 in labels else 0)\n",
        "print(\"Number of clusters:\", n_clusters)\n",
        "\n",
        "x = 0\n",
        "for i in dbscan.labels_:\n",
        "  if(i == 0): \n",
        "    x += 1\n",
        "\n",
        "print(x)\n",
        "print(f\"Accuracy {x/162}\")\n",
        "# print(\"Core samples:\", labels)"
      ],
      "metadata": {
        "colab": {
          "base_uri": "https://localhost:8080/"
        },
        "id": "YxrXQYNpTN2e",
        "outputId": "0cc92358-6b24-4217-e396-7a210ddd6d0f"
      },
      "execution_count": null,
      "outputs": [
        {
          "output_type": "stream",
          "name": "stdout",
          "text": [
            "sklearn Values [ 0  0 -1  0  0  0 -1  0  0  0 -1 -1  1 -1 -1  0  0  0 -1  0  0  0  1  0\n",
            "  0  0  0  0 -1  0  0  0  0 -1  0  1  0  0  0  0  0  0  1  0  0 -1  0  0\n",
            "  0  1 -1  0 -1  0  0  0  0  0  0  0  0  0  0 -1  0  0  0  0  0  0  0  0\n",
            "  0  0  0  0  0  0  0  0  0  0  0  0 -1  0  0  0  0  1  0  0 -1 -1  0  0\n",
            "  1 -1  0  0  0  0 -1 -1  0  0 -1 -1  0  0 -1 -1  1 -1  0  0 -1 -1  0  0\n",
            "  0 -1 -1 -1  0  0  0  0  0  0  0 -1  0  0  0  0  0  0  0  0  0  0  1  0\n",
            "  0  0  0  0  0  0  0  0  0  0  0  0 -1 -1 -1 -1  0  0]\n",
            "162\n",
            "Number of clusters: 2\n",
            "119\n",
            "Accuracy 0.7345679012345679\n"
          ]
        }
      ]
    },
    {
      "cell_type": "markdown",
      "source": [
        "**DB scan**"
      ],
      "metadata": {
        "id": "EtsRo8e_UoTN"
      }
    },
    {
      "cell_type": "code",
      "source": [
        "from sklearn.cluster import DBSCAN\n",
        "import numpy as np\n",
        "dbscan = DBSCAN(eps=4, min_samples=10).fit(perdicted)\n",
        "print(\"sklearn Values\",dbscan.labels_)\n",
        "print(len(dbscan.labels_))\n",
        "labels = dbscan.labels_\n",
        "n_clusters = len(set(labels)) - (1 if -1 in labels else 0)\n",
        "print(\"Number of clusters:\", n_clusters)\n",
        "\n",
        "x = 0\n",
        "for i in dbscan.labels_:\n",
        "  if(i == 0): \n",
        "    x += 1\n",
        "\n",
        "print(x)\n",
        "print(f\"Accuracy {x/162}\")\n",
        "# print(\"Core samples:\", labels)"
      ],
      "metadata": {
        "id": "8MmfkLQ7OSOJ",
        "colab": {
          "base_uri": "https://localhost:8080/"
        },
        "outputId": "c014cde9-353c-4fdd-b3ad-cc0043b602aa"
      },
      "execution_count": null,
      "outputs": [
        {
          "output_type": "stream",
          "name": "stdout",
          "text": [
            "sklearn Values [ 0  0 -1  0  0  0 -1  0  0  0 -1 -1 -1 -1 -1  1  0 -1 -1  0  1  0 -1 -1\n",
            "  0  1  0  0 -1  0  1  0  0 -1  0 -1  0  0  0  0  0  0 -1  0  0 -1  1  0\n",
            "  0 -1 -1  0 -1 -1  0  0  0  0  0  1 -1  0  0 -1  1  0  0  0  0  0 -1  0\n",
            "  0  0  0  0 -1  0  0  1 -1  0  0  0 -1 -1  0  0  0 -1  0  1 -1 -1 -1  0\n",
            " -1 -1  0  0  0  0 -1 -1 -1  0 -1 -1 -1  0 -1 -1 -1 -1  0  0 -1 -1  0  0\n",
            " -1 -1 -1 -1  0  0  0  0  0  0  0 -1  0  0  0  0  0  0  0  0 -1  0 -1  0\n",
            "  0  0  0  0  0  0  0  0  1  0  0  0 -1 -1 -1 -1  0  0]\n",
            "162\n",
            "Number of clusters: 2\n",
            "96\n",
            "Accuracy 0.5925925925925926\n"
          ]
        }
      ]
    },
    {
      "cell_type": "markdown",
      "source": [
        "**Q1: What are the different metrics used to evaluate the performance of different clustering algorithms?**\n",
        "\n",
        "TThe different metrics we can use to evaluate the performance of different clustering algorithms are recall, precision, and F1_Score, note that precision and recall are inversely proportional.\n",
        "\n",
        "Precision is a higher mesure of quality than accuracy, higher precision indicates that it more relevant values as opposed to non relevant ones. The equation is simpilifed to the following (TP/(TP + FP)). As seen in the equation the calculation only looks at the positive values that are predicted correctly and incorrectly\n",
        "\n",
        "Next we have Recall, recall is also a better way to mesure the usefulness of an algorithm. Recall is more concerned with the number of relevant results we return (TP and FN), these are the data sets that we are most interested in. The equation is as follows [(TP) / (TP + FN)]\n",
        "\n",
        "Lastly, there is F1_Score = [(2*Percesion*recall)/(Percession*recall)]\n"
      ],
      "metadata": {
        "id": "HxIIV-UvU0tw"
      }
    },
    {
      "cell_type": "markdown",
      "source": [
        "**Q2: Instead of accuracy, what other ways can we evaluate the performance of three algorithms in lab 3?**\n",
        "\n",
        "\n",
        "2 other methods we could use to measure the performance of our algorithms are recall and precision. Precision would be a more appropriate evaluation of our clustering results. This is because we are less concerned to measure someone with a positive result it is more important that we do not falsely diagnose someone as negative. That is why recall would be a better way to measure our performance. However, performance can be equally valid if we are looking at what clients we want to perform an x-ray on.\n"
      ],
      "metadata": {
        "id": "l33DzNDmjo69"
      }
    },
    {
      "cell_type": "code",
      "source": [],
      "metadata": {
        "id": "tBx8s8UrPr2k"
      },
      "execution_count": null,
      "outputs": []
    }
  ]
}