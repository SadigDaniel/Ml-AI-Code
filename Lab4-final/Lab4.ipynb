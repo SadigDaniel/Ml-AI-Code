{
  "nbformat": 4,
  "nbformat_minor": 0,
  "metadata": {
    "colab": {
      "provenance": []
    },
    "kernelspec": {
      "name": "python3",
      "display_name": "Python 3"
    },
    "language_info": {
      "name": "python"
    }
  },
  "cells": [
    {
      "cell_type": "markdown",
      "source": [
        "**Lab #4**\n",
        "Daniel Sadig\n",
        "\n",
        "Student ID: 500894225\n",
        "section Number: 032"
      ],
      "metadata": {
        "id": "MTZOwp7IjDKJ"
      }
    },
    {
      "cell_type": "code",
      "execution_count": null,
      "metadata": {
        "colab": {
          "base_uri": "https://localhost:8080/"
        },
        "id": "bAjJc6GnHewE",
        "outputId": "a620d197-ce5e-449c-bc38-ee461996625a"
      },
      "outputs": [
        {
          "output_type": "stream",
          "name": "stdout",
          "text": [
            "              X          y\n",
            "0     -1.000000   8.300000\n",
            "1     -0.999933   8.300333\n",
            "2     -0.999867   8.300667\n",
            "3     -0.999800   8.301000\n",
            "4     -0.999733   8.301333\n",
            "...         ...        ...\n",
            "29995  0.999733  12.298134\n",
            "29996  0.999800  12.298600\n",
            "29997  0.999867  12.299067\n",
            "29998  0.999933  12.299533\n",
            "29999  1.000000  12.300000\n",
            "\n",
            "[30000 rows x 2 columns]\n"
          ]
        }
      ],
      "source": [
        "import numpy as np\n",
        "from matplotlib import axis\n",
        "import pandas as pd;\n",
        "import tensorflow as tf\n",
        "from tensorflow import keras\n",
        "import matplotlib.pyplot as plt\n",
        "import math\n",
        "\n",
        "#Q1: Generate data points\n",
        "\n",
        "x_values = np.linspace(-1, 1, 30000)\n",
        "\n",
        "# Calculate y values for each x using the given function\n",
        "y_values = 0.2 * x_values ** 4 + 2 * x_values ** 3 + 0.1 * x_values ** 2 + 10\n",
        "\n",
        "# x_y_val = np.dstack((x_values, y_values))\n",
        "\n",
        "# print(x_y_val[0][0])\n",
        "d = {'X': x_values, 'y': y_values}\n",
        "df_dataset = pd.DataFrame(data=d)\n",
        "\n",
        "data_pt = df_dataset.to_numpy()\n",
        "print(df_dataset)\n"
      ]
    },
    {
      "cell_type": "markdown",
      "source": [
        "**Q2 Shuffle dataset**"
      ],
      "metadata": {
        "id": "Rx48oorlNm3s"
      }
    },
    {
      "cell_type": "code",
      "source": [
        "#Shuffle dataset\n",
        "def get_dataset(arg, df_dataset):\n",
        "  if(arg == 'shuffle' ):\n",
        "    print(\"HIIII\")\n",
        "    df_dataset = df_dataset.sample(frac = 1)\n",
        "\n",
        "  return df_dataset\n",
        "\n",
        "new_data_set = get_dataset('shuffle', df_dataset)\n",
        "print(new_data_set)\n",
        "\n"
      ],
      "metadata": {
        "colab": {
          "base_uri": "https://localhost:8080/"
        },
        "id": "XM2ZXEVvIwlk",
        "outputId": "3c78a182-0f0a-4538-d070-442d1e3296be"
      },
      "execution_count": null,
      "outputs": [
        {
          "output_type": "stream",
          "name": "stdout",
          "text": [
            "HIIII\n",
            "              X          y\n",
            "27907  0.860529  11.458181\n",
            "9027  -0.398180   9.894621\n",
            "20303  0.353578  10.104035\n",
            "13647 -0.090170   9.999360\n",
            "6660  -0.555985   9.706291\n",
            "...         ...        ...\n",
            "11599 -0.226708   9.982364\n",
            "23994  0.599653  10.493070\n",
            "25014  0.667656  10.679551\n",
            "7750  -0.483316   9.808473\n",
            "9422  -0.371846   9.914821\n",
            "\n",
            "[30000 rows x 2 columns]\n"
          ]
        }
      ]
    },
    {
      "cell_type": "code",
      "source": [
        "#Partition dataset\n",
        "def Traning_Testing(train, test, validation, dataset):\n",
        "  #train takes the first x elements\n",
        "  #test takes the last x elements\n",
        "  train = abs(30000 * train)\n",
        "  validation = int(abs(300000 * validation))\n",
        "  test = abs(30000 * test)\n",
        " \n",
        "  test_rng = int(train + test)\n",
        " \n",
        "\n",
        "  training = dataset.head(int(train))\n",
        "  testing = dataset[int(train):test_rng]\n",
        "  validation = dataset[int(test_rng + train) : ]\n",
        "\n",
        "  return training, validation, testing\n",
        "\n",
        "training, testing, validate = Traning_Testing(0.3, 0.2, 0.5, new_data_set)\n",
        "\n",
        "# print(training)\n",
        "# print(validate)\n",
        "\n",
        "# def scale_data(train, test, validation):\n",
        "#   new_train = train[(train.X >= 0)]\n",
        "#   new_test = test[(test.X >= 0)]\n",
        "#   new_validation = validation[(validation.X >= 0)]\n",
        "\n",
        "#   return new_train, new_test, new_validation\n",
        "\n",
        "# train, test, validation =  scale_data(training, validate, testing)\n",
        "\n",
        "def scale_data(train, test, validation):\n",
        "  df_min_max_scaled = train.copy()\n",
        "  column = 'X'\n",
        "  df_min_max_scaled[column] = (df_min_max_scaled[column] - df_min_max_scaled[column].min()) / (df_min_max_scaled[column].max() - df_min_max_scaled[column].min())    \n",
        "  df_min_max_scaled['y'] = (df_min_max_scaled['y'] - df_min_max_scaled['y'].min()) / (df_min_max_scaled['y'].max() - df_min_max_scaled['y'].min()) \n",
        "\n",
        "  new_test = test.copy()\n",
        "  column = 'X'\n",
        "  new_test[column] = (new_test[column] - new_test[column].min()) / (new_test[column].max() - new_test[column].min())    \n",
        "  new_test['y'] = (new_test['y'] - new_test['y'].min()) / (new_test['y'].max() - new_test['y'].min()) \n",
        "\n",
        "  new_validation = validation.copy()\n",
        "  column = 'X'\n",
        "  new_validation[column] = (new_validation[column] - new_validation[column].min()) / (new_validation[column].max() - new_validation[column].min())    \n",
        "  new_validation['y'] = (new_validation['y'] - new_validation['y'].min()) / (new_validation['y'].max() - new_validation['y'].min()) \n",
        "  return df_min_max_scaled, new_test, new_validation\n",
        "\n",
        "train, test, validation =  scale_data(training, validate, testing)\n"
      ],
      "metadata": {
        "id": "bJBJbYMDNLXP"
      },
      "execution_count": null,
      "outputs": []
    },
    {
      "cell_type": "markdown",
      "source": [
        "**MSE MRSE MAE**"
      ],
      "metadata": {
        "id": "H2tUgoV9Fj1i"
      }
    },
    {
      "cell_type": "code",
      "source": [
        "import pandas as pd\n",
        "from sklearn.metrics import mean_absolute_error\n",
        "from sklearn.metrics import mean_squared_error\n",
        "def calc_error(x_test, y_test, y_pred):\n",
        "  mae = mean_absolute_error(y_test, y_pred)\n",
        "  mse = mean_squared_error(y_test, y_pred)\n",
        "  rmse = math.sqrt(mse)\n",
        "  \n",
        "  return mae, mse, rmse\n",
        "  "
      ],
      "metadata": {
        "id": "KLZZlprsFjRL"
      },
      "execution_count": null,
      "outputs": []
    },
    {
      "cell_type": "markdown",
      "source": [
        "**Q1: ** Use shuffled and unscaled data.\n",
        "**Activation**: Relu"
      ],
      "metadata": {
        "id": "w9P9NGU2YJ6x"
      }
    },
    {
      "cell_type": "code",
      "source": [
        "\n",
        "  \n",
        "x_train = training['X']\n",
        "y_train = training['y']\n",
        "print(train)\n",
        "x_test = testing['X']\n",
        "y_test = testing['y']\n",
        "\n",
        "x_validation = validate['X']\n",
        "y_validation = validate['y']\n",
        "# Dense = fully connected layer\n",
        "model = keras.Sequential([\n",
        "    keras.layers.Dense(12, activation='relu', input_shape=(1,1)),\n",
        "    keras.layers.Dense(8, activation='relu'),\n",
        "    keras.layers.Dense(4, activation='relu'),\n",
        "    keras.layers.Dense(1, activation='linear')\n",
        "])\n",
        "\n",
        "print(len(x_test))\n",
        "model.compile(optimizer='adam',\n",
        "              loss='MSE')\n",
        "\n",
        "model.fit(x_train, y_train, epochs=20, batch_size=12)\n",
        "# print(model.fit)\n",
        "\n",
        "test_loss = model.evaluate(x_test, y_test)\n",
        "\n",
        "\n",
        "y_predicted = model.predict(x_test)\n",
        "print(y_predicted)\n",
        "ypred = {'y_pred': y_predicted.reshape(len(x_test), )}\n",
        "y_predicted = pd.DataFrame(data=ypred)\n",
        "\n",
        "\n",
        "plt.title('Actual data')\n",
        "plt.plot(x_test, y_test, 'r*')\n",
        "plt.show()\n",
        "\n",
        "plt.title('Predicted data')\n",
        "plt.plot(x_test, y_predicted, 'r*')\n",
        "plt.show()\n",
        "\n",
        "mae, mse, rmse =  calc_error(x_train,y_test,  y_predicted)\n",
        "print(f\"Mae : {mae}\")\n",
        "print(f\"MSE : {mse}\")\n",
        "print(f\"RMSE : {rmse}\")"
      ],
      "metadata": {
        "colab": {
          "base_uri": "https://localhost:8080/",
          "height": 1000
        },
        "id": "mwwSunEWWPSl",
        "outputId": "9af04376-ea5c-4157-fce1-9f0165bd6509"
      },
      "execution_count": null,
      "outputs": [
        {
          "output_type": "stream",
          "name": "stdout",
          "text": [
            "              X         y\n",
            "29766  0.992266  0.973363\n",
            "17109  0.570309  0.426859\n",
            "3700   0.123283  0.241436\n",
            "14864  0.495466  0.424955\n",
            "8349   0.278270  0.388209\n",
            "...         ...       ...\n",
            "24896  0.829911  0.588968\n",
            "10501  0.350013  0.414116\n",
            "9040   0.301307  0.398779\n",
            "14210  0.473663  0.424950\n",
            "25612  0.853781  0.627145\n",
            "\n",
            "[9000 rows x 2 columns]\n",
            "6000\n",
            "Epoch 1/20\n",
            "750/750 [==============================] - 2s 2ms/step - loss: 37.3983\n",
            "Epoch 2/20\n",
            "750/750 [==============================] - 1s 2ms/step - loss: 0.1098\n",
            "Epoch 3/20\n",
            "750/750 [==============================] - 1s 2ms/step - loss: 0.0400\n",
            "Epoch 4/20\n",
            "750/750 [==============================] - 1s 2ms/step - loss: 0.0147\n",
            "Epoch 5/20\n",
            "750/750 [==============================] - 2s 3ms/step - loss: 0.0061\n",
            "Epoch 6/20\n",
            "750/750 [==============================] - 2s 2ms/step - loss: 0.0033\n",
            "Epoch 7/20\n",
            "750/750 [==============================] - 1s 2ms/step - loss: 0.0024\n",
            "Epoch 8/20\n",
            "750/750 [==============================] - 1s 2ms/step - loss: 0.0019\n",
            "Epoch 9/20\n",
            "750/750 [==============================] - 1s 2ms/step - loss: 0.0017\n",
            "Epoch 10/20\n",
            "750/750 [==============================] - 1s 2ms/step - loss: 0.0017\n",
            "Epoch 11/20\n",
            "750/750 [==============================] - 1s 2ms/step - loss: 0.0017\n",
            "Epoch 12/20\n",
            "750/750 [==============================] - 1s 2ms/step - loss: 0.0015\n",
            "Epoch 13/20\n",
            "750/750 [==============================] - 2s 2ms/step - loss: 0.0014\n",
            "Epoch 14/20\n",
            "750/750 [==============================] - 2s 3ms/step - loss: 0.0013\n",
            "Epoch 15/20\n",
            "750/750 [==============================] - 1s 2ms/step - loss: 0.0011\n",
            "Epoch 16/20\n",
            "750/750 [==============================] - 1s 2ms/step - loss: 9.6084e-04\n",
            "Epoch 17/20\n",
            "750/750 [==============================] - 1s 2ms/step - loss: 8.7711e-04\n",
            "Epoch 18/20\n",
            "750/750 [==============================] - 1s 2ms/step - loss: 8.2872e-04\n",
            "Epoch 19/20\n",
            "750/750 [==============================] - 1s 2ms/step - loss: 7.5227e-04\n",
            "Epoch 20/20\n",
            "750/750 [==============================] - 1s 2ms/step - loss: 7.9880e-04\n",
            "188/188 [==============================] - 1s 2ms/step - loss: 6.9385e-04\n",
            "188/188 [==============================] - 0s 2ms/step\n",
            "[[[10.04737  ]]\n",
            "\n",
            " [[10.005863 ]]\n",
            "\n",
            " [[ 9.9233885]]\n",
            "\n",
            " ...\n",
            "\n",
            " [[11.517336 ]]\n",
            "\n",
            " [[10.006966 ]]\n",
            "\n",
            " [[10.684439 ]]]\n"
          ]
        },
        {
          "output_type": "display_data",
          "data": {
            "text/plain": [
              "<Figure size 432x288 with 1 Axes>"
            ],
            "image/png": "[encoded data removed]"
          },
          "metadata": {
            "needs_background": "light"
          }
        },
        {
          "output_type": "display_data",
          "data": {
            "text/plain": [
              "<Figure size 432x288 with 1 Axes>"
            ],
            "image/png": "[encoded data removed]"
          },
          "metadata": {
            "needs_background": "light"
          }
        },
        {
          "output_type": "stream",
          "name": "stdout",
          "text": [
            "Mae : 0.02077012455114029\n",
            "MSE : 0.0006938486016590994\n",
            "RMSE : 0.026341006086691137\n"
          ]
        }
      ]
    },
    {
      "cell_type": "markdown",
      "source": [
        "**Case 2:** Use shuffled and unscaled data.\n",
        "**Activation = relu**"
      ],
      "metadata": {
        "id": "TltqroF_VdYF"
      }
    },
    {
      "cell_type": "code",
      "source": [
        "\n",
        "  \n",
        "x_train = training['X']\n",
        "y_train = training['y']\n",
        "print(train)\n",
        "x_test = testing['X']\n",
        "y_test = testing['y']\n",
        "\n",
        "x_validation = validate['X']\n",
        "y_validation = validate['y']\n",
        "# Dense = fully connected layer\n",
        "model = keras.Sequential([\n",
        "    keras.layers.Dense(24, activation='relu', input_shape=(1,1)),\n",
        "    keras.layers.Dense(1, activation='relu')\n",
        "])\n",
        "\n",
        "print(len(x_test))\n",
        "model.compile(optimizer='adam',\n",
        "              loss='MSE')\n",
        "\n",
        "model.fit(x_train, y_train, epochs=20, batch_size=12)\n",
        "# print(model.fit)\n",
        "\n",
        "test_loss = model.evaluate(x_test, y_test)\n",
        "\n",
        "\n",
        "y_predicted = model.predict(x_test)\n",
        "print(y_predicted)\n",
        "ypred = {'y_pred': y_predicted.reshape(len(x_test), )}\n",
        "y_predicted = pd.DataFrame(data=ypred)\n",
        "\n",
        "\n",
        "plt.title('Actual data')\n",
        "plt.plot(x_test, y_test, 'r*')\n",
        "plt.show()\n",
        "\n",
        "plt.title('Predicted data')\n",
        "plt.plot(x_test, y_predicted, 'r*')\n",
        "plt.show()\n",
        "\n",
        "mae, mse, rmse =  calc_error(x_train,y_test,  y_predicted)\n",
        "print(f\"Mae : {mae}\")\n",
        "print(f\"MSE : {mse}\")\n",
        "print(f\"RMSE : {rmse}\")"
      ],
      "metadata": {
        "colab": {
          "base_uri": "https://localhost:8080/",
          "height": 1000
        },
        "id": "Pqe0gjgkUcV2",
        "outputId": "6baa277f-00b2-45e0-e287-aade52c62422"
      },
      "execution_count": null,
      "outputs": [
        {
          "output_type": "stream",
          "name": "stdout",
          "text": [
            "              X         y\n",
            "27907  0.930288  0.789585\n",
            "9027   0.300850  0.398552\n",
            "20303  0.676779  0.450924\n",
            "13647  0.454876  0.424746\n",
            "6660   0.221937  0.351452\n",
            "...         ...       ...\n",
            "1253   0.041674  0.096183\n",
            "12281  0.409335  0.422804\n",
            "16348  0.544924  0.425475\n",
            "27252  0.908451  0.736493\n",
            "4068   0.135523  0.258685\n",
            "\n",
            "[9000 rows x 2 columns]\n",
            "6000\n",
            "Epoch 1/20\n",
            "750/750 [==============================] - 1s 1ms/step - loss: 35.2596\n",
            "Epoch 2/20\n",
            "750/750 [==============================] - 1s 1ms/step - loss: 0.0902\n",
            "Epoch 3/20\n",
            "750/750 [==============================] - 1s 1ms/step - loss: 0.0639\n",
            "Epoch 4/20\n",
            "750/750 [==============================] - 1s 1ms/step - loss: 0.0477\n",
            "Epoch 5/20\n",
            "750/750 [==============================] - 1s 1ms/step - loss: 0.0430\n",
            "Epoch 6/20\n",
            "750/750 [==============================] - 1s 1ms/step - loss: 0.0399\n",
            "Epoch 7/20\n",
            "750/750 [==============================] - 1s 1ms/step - loss: 0.0348\n",
            "Epoch 8/20\n",
            "750/750 [==============================] - 1s 1ms/step - loss: 0.0270\n",
            "Epoch 9/20\n",
            "750/750 [==============================] - 1s 1ms/step - loss: 0.0185\n",
            "Epoch 10/20\n",
            "750/750 [==============================] - 1s 1ms/step - loss: 0.0120\n",
            "Epoch 11/20\n",
            "750/750 [==============================] - 1s 1ms/step - loss: 0.0081\n",
            "Epoch 12/20\n",
            "750/750 [==============================] - 1s 1ms/step - loss: 0.0060\n",
            "Epoch 13/20\n",
            "750/750 [==============================] - 1s 1ms/step - loss: 0.0047\n",
            "Epoch 14/20\n",
            "750/750 [==============================] - 1s 1ms/step - loss: 0.0039\n",
            "Epoch 15/20\n",
            "750/750 [==============================] - 1s 1ms/step - loss: 0.0033\n",
            "Epoch 16/20\n",
            "750/750 [==============================] - 1s 1ms/step - loss: 0.0029\n",
            "Epoch 17/20\n",
            "750/750 [==============================] - 1s 1ms/step - loss: 0.0027\n",
            "Epoch 18/20\n",
            "750/750 [==============================] - 1s 1ms/step - loss: 0.0024\n",
            "Epoch 19/20\n",
            "750/750 [==============================] - 1s 1ms/step - loss: 0.0023\n",
            "Epoch 20/20\n",
            "750/750 [==============================] - 1s 1ms/step - loss: 0.0022\n",
            "188/188 [==============================] - 0s 982us/step - loss: 0.0020\n",
            "188/188 [==============================] - 0s 933us/step\n",
            "[[[11.744027]]\n",
            "\n",
            " [[ 9.902822]]\n",
            "\n",
            " [[11.59695 ]]\n",
            "\n",
            " ...\n",
            "\n",
            " [[10.667499]]\n",
            "\n",
            " [[ 9.870356]]\n",
            "\n",
            " [[ 9.899571]]]\n"
          ]
        },
        {
          "output_type": "display_data",
          "data": {
            "text/plain": [
              "<Figure size 432x288 with 1 Axes>"
            ],
            "image/png": "[encoded data removed]"
          },
          "metadata": {
            "needs_background": "light"
          }
        },
        {
          "output_type": "display_data",
          "data": {
            "text/plain": [
              "<Figure size 432x288 with 1 Axes>"
            ],
            "image/png": "[encoded data removed]"
          },
          "metadata": {
            "needs_background": "light"
          }
        },
        {
          "output_type": "stream",
          "name": "stdout",
          "text": [
            "Mae : 0.03368573578799672\n",
            "MSE : 0.002044432356354641\n",
            "RMSE : 0.04521539954876702\n"
          ]
        }
      ]
    },
    {
      "cell_type": "markdown",
      "source": [
        "**Case 3:** Use shuffled and unscaled data.\n",
        "**Activation = tanh**"
      ],
      "metadata": {
        "id": "yovOTN5-TW81"
      }
    },
    {
      "cell_type": "code",
      "source": [
        "\n",
        "  \n",
        "x_train = training['X']\n",
        "y_train = training['y']\n",
        "print(train)\n",
        "x_test = testing['X']\n",
        "y_test = testing['y']\n",
        "\n",
        "x_validation = validate['X']\n",
        "y_validation = validate['y']\n",
        "# Dense = fully connected layer\n",
        "model = keras.Sequential([\n",
        "    keras.layers.Dense(12, activation='tanh', input_shape=(1,1)),\n",
        "    keras.layers.Dense(8, activation='tanh'),\n",
        "    keras.layers.Dense(4, activation='tanh'),\n",
        "    keras.layers.Dense(1, activation='linear')\n",
        "])\n",
        "\n",
        "print(len(x_test))\n",
        "model.compile(optimizer='adam',\n",
        "              loss='MSE')\n",
        "\n",
        "model.fit(x_train, y_train, epochs=20, batch_size=12)\n",
        "# print(model.fit)\n",
        "\n",
        "test_loss = model.evaluate(x_test, y_test)\n",
        "\n",
        "\n",
        "y_predicted = model.predict(x_test)\n",
        "print(y_predicted)\n",
        "ypred = {'y_pred': y_predicted.reshape(len(x_test), )}\n",
        "y_predicted = pd.DataFrame(data=ypred)\n",
        "\n",
        "\n",
        "plt.title('Actual data')\n",
        "plt.plot(x_test, y_test, 'r*')\n",
        "plt.show()\n",
        "\n",
        "plt.title('Predicted data')\n",
        "plt.plot(x_test, y_predicted, 'r*')\n",
        "plt.show()\n",
        "\n",
        "mae, mse, rmse =  calc_error(x_train,y_test,  y_predicted)\n",
        "print(f\"Mae : {mae}\")\n",
        "print(f\"MSE : {mse}\")\n",
        "print(f\"RMSE : {rmse}\")"
      ],
      "metadata": {
        "colab": {
          "base_uri": "https://localhost:8080/",
          "height": 1000
        },
        "id": "nqwi8PDXSnos",
        "outputId": "1572406d-2f43-4a7b-e702-c7bfc36fd802"
      },
      "execution_count": null,
      "outputs": [
        {
          "output_type": "stream",
          "name": "stdout",
          "text": [
            "              X         y\n",
            "180    0.005967  0.014750\n",
            "4487   0.149543  0.277153\n",
            "4778   0.159244  0.289105\n",
            "6492   0.216381  0.346931\n",
            "18813  0.627108  0.434995\n",
            "...         ...       ...\n",
            "7872   0.262384  0.379495\n",
            "25010  0.833689  0.594651\n",
            "26839  0.894660  0.705849\n",
            "12925  0.430829  0.424126\n",
            "9503   0.316754  0.404605\n",
            "\n",
            "[9000 rows x 2 columns]\n",
            "6000\n",
            "Epoch 1/20\n",
            "750/750 [==============================] - 2s 2ms/step - loss: 40.0423\n",
            "Epoch 2/20\n",
            "750/750 [==============================] - 1s 2ms/step - loss: 8.1391\n",
            "Epoch 3/20\n",
            "750/750 [==============================] - 1s 2ms/step - loss: 1.5862\n",
            "Epoch 4/20\n",
            "750/750 [==============================] - 1s 2ms/step - loss: 0.6290\n",
            "Epoch 5/20\n",
            "750/750 [==============================] - 1s 2ms/step - loss: 0.4676\n",
            "Epoch 6/20\n",
            "750/750 [==============================] - 1s 2ms/step - loss: 0.2255\n",
            "Epoch 7/20\n",
            "750/750 [==============================] - 1s 2ms/step - loss: 0.1061\n",
            "Epoch 8/20\n",
            "750/750 [==============================] - 2s 2ms/step - loss: 0.0377\n",
            "Epoch 9/20\n",
            "750/750 [==============================] - 2s 2ms/step - loss: 0.0145\n",
            "Epoch 10/20\n",
            "750/750 [==============================] - 1s 2ms/step - loss: 0.0062\n",
            "Epoch 11/20\n",
            "750/750 [==============================] - 1s 2ms/step - loss: 0.0032\n",
            "Epoch 12/20\n",
            "750/750 [==============================] - 1s 2ms/step - loss: 0.0019\n",
            "Epoch 13/20\n",
            "750/750 [==============================] - 1s 2ms/step - loss: 0.0013\n",
            "Epoch 14/20\n",
            "750/750 [==============================] - 1s 2ms/step - loss: 9.6092e-04\n",
            "Epoch 15/20\n",
            "750/750 [==============================] - 1s 2ms/step - loss: 7.7624e-04\n",
            "Epoch 16/20\n",
            "750/750 [==============================] - 1s 2ms/step - loss: 6.1702e-04\n",
            "Epoch 17/20\n",
            "750/750 [==============================] - 1s 2ms/step - loss: 5.4176e-04\n",
            "Epoch 18/20\n",
            "750/750 [==============================] - 2s 3ms/step - loss: 4.3239e-04\n",
            "Epoch 19/20\n",
            "750/750 [==============================] - 1s 2ms/step - loss: 4.3028e-04\n",
            "Epoch 20/20\n",
            "750/750 [==============================] - 2s 3ms/step - loss: 3.0274e-04\n",
            "188/188 [==============================] - 1s 2ms/step - loss: 3.7546e-04\n",
            "188/188 [==============================] - 0s 1ms/step\n",
            "[[[10.128679 ]]\n",
            "\n",
            " [[10.02483  ]]\n",
            "\n",
            " [[10.012609 ]]\n",
            "\n",
            " ...\n",
            "\n",
            " [[ 8.982141 ]]\n",
            "\n",
            " [[ 9.9431095]]\n",
            "\n",
            " [[10.361852 ]]]\n"
          ]
        },
        {
          "output_type": "display_data",
          "data": {
            "text/plain": [
              "<Figure size 432x288 with 1 Axes>"
            ],
            "image/png": "[encoded data removed]"
          },
          "metadata": {
            "needs_background": "light"
          }
        },
        {
          "output_type": "display_data",
          "data": {
            "text/plain": [
              "<Figure size 432x288 with 1 Axes>"
            ],
            "image/png": "[encoded data removed]"
          },
          "metadata": {
            "needs_background": "light"
          }
        },
        {
          "output_type": "stream",
          "name": "stdout",
          "text": [
            "Mae : 0.014014179582492826\n",
            "MSE : 0.0003754569775381409\n",
            "RMSE : 0.019376712247905756\n"
          ]
        }
      ]
    },
    {
      "cell_type": "markdown",
      "source": [
        "**Case 4:** Use shuffled and scaled data. First, shuffle the data then split the data and finally\n",
        "scale the data (both x and y).\n",
        "**Activation = relu**"
      ],
      "metadata": {
        "id": "HwoVYGOPRogl"
      }
    },
    {
      "cell_type": "code",
      "source": [
        "\n",
        "  \n",
        "x_train = train['X']\n",
        "y_train = train['y']\n",
        "print(train)\n",
        "x_test = test['X']\n",
        "y_test = test['y']\n",
        "\n",
        "x_validation = validation['X']\n",
        "y_validation = validation['y']\n",
        "# Dense = fully connected layer\n",
        "model = keras.Sequential([\n",
        "    keras.layers.Dense(12, activation='relu', input_shape=(1,1)),\n",
        "    keras.layers.Dense(8, activation='relu'),\n",
        "    keras.layers.Dense(4, activation='relu'),\n",
        "    keras.layers.Dense(1, activation='relu')\n",
        "])\n",
        "\n",
        "print(len(x_test))\n",
        "model.compile(optimizer='adam',\n",
        "              loss='MSE')\n",
        "\n",
        "model.fit(x_train, y_train, epochs=20, batch_size=12)\n",
        "# print(model.fit)\n",
        "\n",
        "test_loss = model.evaluate(x_test, y_test)\n",
        "\n",
        "\n",
        "y_predicted = model.predict(x_test)\n",
        "print(y_predicted)\n",
        "ypred = {'y_pred': y_predicted.reshape(len(x_test), )}\n",
        "y_predicted = pd.DataFrame(data=ypred)\n",
        "\n",
        "\n",
        "plt.title('Actual data')\n",
        "plt.plot(x_test, y_test, 'r*')\n",
        "plt.show()\n",
        "\n",
        "plt.title('Predicted data')\n",
        "plt.plot(x_test, y_predicted, 'r*')\n",
        "plt.show()\n",
        "\n",
        "mae, mse, rmse =  calc_error(x_train,y_test,  y_predicted)\n",
        "print(f\"Mae : {mae}\")\n",
        "print(f\"MSE : {mse}\")\n",
        "print(f\"RMSE : {rmse}\")"
      ],
      "metadata": {
        "colab": {
          "base_uri": "https://localhost:8080/",
          "height": 1000
        },
        "id": "1ia-vw38RneE",
        "outputId": "cbfe05ef-e3d2-4489-b520-ed9dffdca75a"
      },
      "execution_count": null,
      "outputs": [
        {
          "output_type": "stream",
          "name": "stdout",
          "text": [
            "              X         y\n",
            "27907  0.930288  0.789585\n",
            "9027   0.300850  0.398552\n",
            "20303  0.676779  0.450924\n",
            "13647  0.454876  0.424746\n",
            "6660   0.221937  0.351452\n",
            "...         ...       ...\n",
            "1253   0.041674  0.096183\n",
            "12281  0.409335  0.422804\n",
            "16348  0.544924  0.425475\n",
            "27252  0.908451  0.736493\n",
            "4068   0.135523  0.258685\n",
            "\n",
            "[9000 rows x 2 columns]\n",
            "6000\n",
            "Epoch 1/20\n",
            "750/750 [==============================] - 2s 1ms/step - loss: 0.0080\n",
            "Epoch 2/20\n",
            "750/750 [==============================] - 1s 1ms/step - loss: 0.0054\n",
            "Epoch 3/20\n",
            "750/750 [==============================] - 1s 1ms/step - loss: 0.0054\n",
            "Epoch 4/20\n",
            "750/750 [==============================] - 1s 1ms/step - loss: 0.0054\n",
            "Epoch 5/20\n",
            "750/750 [==============================] - 1s 1ms/step - loss: 0.0054\n",
            "Epoch 6/20\n",
            "750/750 [==============================] - 1s 1ms/step - loss: 0.0054\n",
            "Epoch 7/20\n",
            "750/750 [==============================] - 1s 1ms/step - loss: 0.0054\n",
            "Epoch 8/20\n",
            "750/750 [==============================] - 1s 1ms/step - loss: 0.0054\n",
            "Epoch 9/20\n",
            "750/750 [==============================] - 1s 1ms/step - loss: 0.0054\n",
            "Epoch 10/20\n",
            "750/750 [==============================] - 1s 1ms/step - loss: 0.0053\n",
            "Epoch 11/20\n",
            "750/750 [==============================] - 1s 2ms/step - loss: 0.0054\n",
            "Epoch 12/20\n",
            "750/750 [==============================] - 1s 1ms/step - loss: 0.0053\n",
            "Epoch 13/20\n",
            "750/750 [==============================] - 1s 1ms/step - loss: 0.0054\n",
            "Epoch 14/20\n",
            "750/750 [==============================] - 1s 1ms/step - loss: 0.0054\n",
            "Epoch 15/20\n",
            "750/750 [==============================] - 1s 1ms/step - loss: 0.0040\n",
            "Epoch 16/20\n",
            "750/750 [==============================] - 1s 1ms/step - loss: 0.0016\n",
            "Epoch 17/20\n",
            "750/750 [==============================] - 1s 1ms/step - loss: 5.8890e-04\n",
            "Epoch 18/20\n",
            "750/750 [==============================] - 1s 1ms/step - loss: 1.9678e-04\n",
            "Epoch 19/20\n",
            "750/750 [==============================] - 1s 1ms/step - loss: 9.0171e-05\n",
            "Epoch 20/20\n",
            "750/750 [==============================] - 1s 1ms/step - loss: 5.1358e-05\n",
            "188/188 [==============================] - 0s 1ms/step - loss: 4.1294e-05\n",
            "188/188 [==============================] - 0s 1ms/step\n",
            "[[[0.36726093]]\n",
            "\n",
            " [[0.4235851 ]]\n",
            "\n",
            " [[0.8064705 ]]\n",
            "\n",
            " ...\n",
            "\n",
            " [[0.3705258 ]]\n",
            "\n",
            " [[0.39885232]]\n",
            "\n",
            " [[0.4219183 ]]]\n"
          ]
        },
        {
          "output_type": "display_data",
          "data": {
            "text/plain": [
              "<Figure size 432x288 with 1 Axes>"
            ],
            "image/png": "[encoded data removed]"
          },
          "metadata": {
            "needs_background": "light"
          }
        },
        {
          "output_type": "display_data",
          "data": {
            "text/plain": [
              "<Figure size 432x288 with 1 Axes>"
            ],
            "image/png": "[encoded data removed]"
          },
          "metadata": {
            "needs_background": "light"
          }
        },
        {
          "output_type": "stream",
          "name": "stdout",
          "text": [
            "Mae : 0.0037456613073785358\n",
            "MSE : 4.129356960961592e-05\n",
            "RMSE : 0.006426007283657242\n"
          ]
        }
      ]
    },
    {
      "cell_type": "markdown",
      "source": [
        "**Case 5:** Use shuffled and scaled data. First, shuffle the data then split the data and finally\n",
        "scale the data (both x and y).\n",
        "**Activation = tanh**"
      ],
      "metadata": {
        "id": "s27Jli5VFYAC"
      }
    },
    {
      "cell_type": "code",
      "source": [
        "\n",
        "  \n",
        "x_train = train['X']\n",
        "y_train = train['y']\n",
        "print(train)\n",
        "x_test = test['X']\n",
        "y_test = test['y']\n",
        "\n",
        "x_validation = validation['X']\n",
        "y_validation = validation['y']\n",
        "# Dense = fully connected layer\n",
        "model = keras.Sequential([\n",
        "    keras.layers.Dense(12, activation='tanh', input_shape=(1,1)),\n",
        "    keras.layers.Dense(8, activation='tanh'),\n",
        "    keras.layers.Dense(4, activation='tanh'),\n",
        "    keras.layers.Dense(1, activation='tanh')\n",
        "])\n",
        "\n",
        "print(len(x_test))\n",
        "model.compile(optimizer='adam',\n",
        "              loss='MSE')\n",
        "\n",
        "model.fit(x_train, y_train, epochs=20, batch_size=12)\n",
        "# print(model.fit)\n",
        "\n",
        "test_loss = model.evaluate(x_test, y_test)\n",
        "\n",
        "\n",
        "y_predicted = model.predict(x_test)\n",
        "print(y_predicted)\n",
        "ypred = {'y_pred': y_predicted.reshape(len(x_test), )}\n",
        "y_predicted = pd.DataFrame(data=ypred)\n",
        "\n",
        "\n",
        "plt.title('Actual data')\n",
        "plt.plot(x_test, y_test, 'r*')\n",
        "plt.show()\n",
        "\n",
        "plt.title('Predicted data')\n",
        "plt.plot(x_test, y_predicted, 'r*')\n",
        "plt.show()\n",
        "\n",
        "mae, mse, rmse =  calc_error(x_train,y_test,  y_predicted)\n",
        "print(f\"Mae : {mae}\")\n",
        "print(f\"MSE : {mse}\")\n",
        "print(f\"RMSE : {rmse}\")"
      ],
      "metadata": {
        "id": "D_dlXMj3PWNo",
        "colab": {
          "base_uri": "https://localhost:8080/",
          "height": 1000
        },
        "outputId": "dc0ce381-f565-4bbe-e8bb-53b5ab98ca34"
      },
      "execution_count": null,
      "outputs": [
        {
          "output_type": "stream",
          "name": "stdout",
          "text": [
            "              X         y\n",
            "180    0.005967  0.014750\n",
            "4487   0.149543  0.277153\n",
            "4778   0.159244  0.289105\n",
            "6492   0.216381  0.346931\n",
            "18813  0.627108  0.434995\n",
            "...         ...       ...\n",
            "7872   0.262384  0.379495\n",
            "25010  0.833689  0.594651\n",
            "26839  0.894660  0.705849\n",
            "12925  0.430829  0.424126\n",
            "9503   0.316754  0.404605\n",
            "\n",
            "[9000 rows x 2 columns]\n",
            "6000\n",
            "Epoch 1/20\n",
            "750/750 [==============================] - 2s 2ms/step - loss: 0.0137\n",
            "Epoch 2/20\n",
            "750/750 [==============================] - 1s 2ms/step - loss: 0.0078\n",
            "Epoch 3/20\n",
            "750/750 [==============================] - 1s 2ms/step - loss: 0.0077\n",
            "Epoch 4/20\n",
            "750/750 [==============================] - 1s 2ms/step - loss: 0.0076\n",
            "Epoch 5/20\n",
            "750/750 [==============================] - 1s 2ms/step - loss: 0.0075\n",
            "Epoch 6/20\n",
            "750/750 [==============================] - 2s 2ms/step - loss: 0.0073\n",
            "Epoch 7/20\n",
            "750/750 [==============================] - 2s 2ms/step - loss: 0.0071\n",
            "Epoch 8/20\n",
            "750/750 [==============================] - 1s 2ms/step - loss: 0.0069\n",
            "Epoch 9/20\n",
            "750/750 [==============================] - 1s 2ms/step - loss: 0.0060\n",
            "Epoch 10/20\n",
            "750/750 [==============================] - 1s 2ms/step - loss: 0.0024\n",
            "Epoch 11/20\n",
            "750/750 [==============================] - 1s 2ms/step - loss: 0.0013\n",
            "Epoch 12/20\n",
            "750/750 [==============================] - 1s 2ms/step - loss: 0.0011\n",
            "Epoch 13/20\n",
            "750/750 [==============================] - 1s 2ms/step - loss: 9.1199e-04\n",
            "Epoch 14/20\n",
            "750/750 [==============================] - 1s 2ms/step - loss: 7.8432e-04\n",
            "Epoch 15/20\n",
            "750/750 [==============================] - 2s 2ms/step - loss: 6.9877e-04\n",
            "Epoch 16/20\n",
            "750/750 [==============================] - 3s 4ms/step - loss: 6.3564e-04\n",
            "Epoch 17/20\n",
            "750/750 [==============================] - 2s 3ms/step - loss: 5.9075e-04\n",
            "Epoch 18/20\n",
            "750/750 [==============================] - 1s 2ms/step - loss: 5.5653e-04\n",
            "Epoch 19/20\n",
            "750/750 [==============================] - 1s 2ms/step - loss: 5.1297e-04\n",
            "Epoch 20/20\n",
            "750/750 [==============================] - 1s 2ms/step - loss: 4.8465e-04\n",
            "188/188 [==============================] - 0s 1ms/step - loss: 4.7976e-04\n",
            "188/188 [==============================] - 0s 1ms/step\n",
            "[[[0.6075972 ]]\n",
            "\n",
            " [[0.61680615]]\n",
            "\n",
            " [[0.42391473]]\n",
            "\n",
            " ...\n",
            "\n",
            " [[0.06649712]]\n",
            "\n",
            " [[0.22708222]]\n",
            "\n",
            " [[0.42352623]]]\n"
          ]
        },
        {
          "output_type": "display_data",
          "data": {
            "text/plain": [
              "<Figure size 432x288 with 1 Axes>"
            ],
            "image/png": "[encoded data removed]"
          },
          "metadata": {
            "needs_background": "light"
          }
        },
        {
          "output_type": "display_data",
          "data": {
            "text/plain": [
              "<Figure size 432x288 with 1 Axes>"
            ],
            "image/png": "[encoded data removed]"
          },
          "metadata": {
            "needs_background": "light"
          }
        },
        {
          "output_type": "stream",
          "name": "stdout",
          "text": [
            "Mae : 0.015720909602110866\n",
            "MSE : 0.0004797575345761825\n",
            "RMSE : 0.021903368110319985\n"
          ]
        }
      ]
    },
    {
      "cell_type": "markdown",
      "source": [
        "**Now For Unshuffeled**"
      ],
      "metadata": {
        "id": "V-Xvz3T1behm"
      }
    },
    {
      "cell_type": "code",
      "source": [
        "new_data_set = get_dataset('no', df_dataset) #Unshuff\n",
        "\n",
        "training, validate, testing = Traning_Testing(0.3, 0.2, 0.5, new_data_set) #Unshuff split\n",
        "\n",
        "train, test, validation =  scale_data(training, validate, testing) #unshuff\n",
        "print(training)"
      ],
      "metadata": {
        "id": "YdFugTvZx5OU",
        "colab": {
          "base_uri": "https://localhost:8080/"
        },
        "outputId": "c5ab803b-452c-47e3-f5ca-256816a67cd1"
      },
      "execution_count": null,
      "outputs": [
        {
          "output_type": "stream",
          "name": "stdout",
          "text": [
            "             X         y\n",
            "0    -1.000000  8.300000\n",
            "1    -0.999933  8.300333\n",
            "2    -0.999867  8.300667\n",
            "3    -0.999800  8.301000\n",
            "4    -0.999733  8.301333\n",
            "...        ...       ...\n",
            "8995 -0.400313  9.892860\n",
            "8996 -0.400247  9.892915\n",
            "8997 -0.400180  9.892971\n",
            "8998 -0.400113  9.893026\n",
            "8999 -0.400047  9.893081\n",
            "\n",
            "[9000 rows x 2 columns]\n"
          ]
        }
      ]
    },
    {
      "cell_type": "markdown",
      "source": [
        "**Q1.2: ** Use un shuffled and unscaled data.\n",
        "**Activation**: Relu"
      ],
      "metadata": {
        "id": "NDT2kK0bcpJH"
      }
    },
    {
      "cell_type": "code",
      "source": [
        "\n",
        "  \n",
        "x_train = training['X']\n",
        "y_train = training['y']\n",
        "print(train)\n",
        "x_test = testing['X']\n",
        "y_test = testing['y']\n",
        "\n",
        "x_validation = validate['X']\n",
        "y_validation = validate['y']\n",
        "# Dense = fully connected layer\n",
        "model = keras.Sequential([\n",
        "    keras.layers.Dense(12, activation='relu', input_shape=(1,1)),\n",
        "    keras.layers.Dense(8, activation='relu'),\n",
        "    keras.layers.Dense(4, activation='relu'),\n",
        "    keras.layers.Dense(1, activation='linear')\n",
        "])\n",
        "\n",
        "print(len(x_test))\n",
        "model.compile(optimizer='adam',\n",
        "              loss='MSE')\n",
        "\n",
        "model.fit(x_train, y_train, epochs=20, batch_size=12)\n",
        "# print(model.fit)\n",
        "\n",
        "test_loss = model.evaluate(x_test, y_test)\n",
        "\n",
        "\n",
        "y_predicted = model.predict(x_test)\n",
        "print(y_predicted)\n",
        "ypred = {'y_pred': y_predicted.reshape(len(x_test), )}\n",
        "y_predicted = pd.DataFrame(data=ypred)\n",
        "\n",
        "\n",
        "plt.title('Actual data')\n",
        "plt.plot(x_test, y_test, 'r*')\n",
        "plt.show()\n",
        "\n",
        "plt.title('Predicted data')\n",
        "plt.plot(x_test, y_predicted, 'r*')\n",
        "plt.show()\n",
        "\n",
        "mae, mse, rmse =  calc_error(x_train,y_test,  y_predicted)\n",
        "print(f\"Mae : {mae}\")\n",
        "print(f\"MSE : {mse}\")\n",
        "print(f\"RMSE : {rmse}\")"
      ],
      "metadata": {
        "colab": {
          "base_uri": "https://localhost:8080/",
          "height": 1000
        },
        "id": "VhW72UcFcx6n",
        "outputId": "38221d5b-d0c6-4c25-ebcc-d69d0b0afd4c"
      },
      "execution_count": null,
      "outputs": [
        {
          "output_type": "stream",
          "name": "stdout",
          "text": [
            "             X         y\n",
            "0     0.000000  0.000000\n",
            "1     0.000111  0.000209\n",
            "2     0.000222  0.000418\n",
            "3     0.000333  0.000628\n",
            "4     0.000444  0.000837\n",
            "...        ...       ...\n",
            "8995  0.999556  0.999861\n",
            "8996  0.999667  0.999896\n",
            "8997  0.999778  0.999931\n",
            "8998  0.999889  0.999965\n",
            "8999  1.000000  1.000000\n",
            "\n",
            "[9000 rows x 2 columns]\n",
            "6000\n",
            "Epoch 1/20\n",
            "750/750 [==============================] - 3s 2ms/step - loss: 15.9863\n",
            "Epoch 2/20\n",
            "750/750 [==============================] - 2s 2ms/step - loss: 1.0727\n",
            "Epoch 3/20\n",
            "750/750 [==============================] - 2s 3ms/step - loss: 0.1657\n",
            "Epoch 4/20\n",
            "750/750 [==============================] - 1s 2ms/step - loss: 0.0096\n",
            "Epoch 5/20\n",
            "750/750 [==============================] - 1s 1ms/step - loss: 0.0062\n",
            "Epoch 6/20\n",
            "750/750 [==============================] - 1s 1ms/step - loss: 0.0046\n",
            "Epoch 7/20\n",
            "750/750 [==============================] - 1s 1ms/step - loss: 0.0044\n",
            "Epoch 8/20\n",
            "750/750 [==============================] - 1s 1ms/step - loss: 0.0043\n",
            "Epoch 9/20\n",
            "750/750 [==============================] - 1s 1ms/step - loss: 0.0042\n",
            "Epoch 10/20\n",
            "750/750 [==============================] - 1s 1ms/step - loss: 0.0040\n",
            "Epoch 11/20\n",
            "750/750 [==============================] - 1s 1ms/step - loss: 0.0036\n",
            "Epoch 12/20\n",
            "750/750 [==============================] - 1s 1ms/step - loss: 0.0030\n",
            "Epoch 13/20\n",
            "750/750 [==============================] - 1s 1ms/step - loss: 0.0021\n",
            "Epoch 14/20\n",
            "750/750 [==============================] - 1s 1ms/step - loss: 0.0011\n",
            "Epoch 15/20\n",
            "750/750 [==============================] - 1s 2ms/step - loss: 6.6461e-04\n",
            "Epoch 16/20\n",
            "750/750 [==============================] - 1s 1ms/step - loss: 7.0515e-04\n",
            "Epoch 17/20\n",
            "750/750 [==============================] - 1s 1ms/step - loss: 6.7340e-04\n",
            "Epoch 18/20\n",
            "750/750 [==============================] - 1s 1ms/step - loss: 6.6414e-04\n",
            "Epoch 19/20\n",
            "750/750 [==============================] - 1s 1ms/step - loss: 7.0752e-04\n",
            "Epoch 20/20\n",
            "750/750 [==============================] - 1s 1ms/step - loss: 7.1233e-04\n",
            "188/188 [==============================] - 0s 1ms/step - loss: 0.0697\n",
            "188/188 [==============================] - 0s 994us/step\n",
            "[[[ 9.963482]]\n",
            "\n",
            " [[ 9.963592]]\n",
            "\n",
            " [[ 9.963703]]\n",
            "\n",
            " ...\n",
            "\n",
            " [[10.315868]]\n",
            "\n",
            " [[10.315862]]\n",
            "\n",
            " [[10.315855]]]\n"
          ]
        },
        {
          "output_type": "display_data",
          "data": {
            "text/plain": [
              "<Figure size 432x288 with 1 Axes>"
            ],
            "image/png": "[encoded data removed]"
          },
          "metadata": {
            "needs_background": "light"
          }
        },
        {
          "output_type": "display_data",
          "data": {
            "text/plain": [
              "<Figure size 432x288 with 1 Axes>"
            ],
            "image/png": "[encoded data removed]"
          },
          "metadata": {
            "needs_background": "light"
          }
        },
        {
          "output_type": "stream",
          "name": "stdout",
          "text": [
            "Mae : 0.2488573553568712\n",
            "MSE : 0.06965202512336766\n",
            "RMSE : 0.26391670110731463\n"
          ]
        }
      ]
    },
    {
      "cell_type": "markdown",
      "source": [
        "**Case 2:** Use shuffled and unscaled data.\n",
        "**Activation = relu**"
      ],
      "metadata": {
        "id": "z4SG1HvE0yz1"
      }
    },
    {
      "cell_type": "code",
      "source": [
        "\n",
        "  \n",
        "x_train = training['X']\n",
        "y_train = training['y']\n",
        "print(train)\n",
        "x_test = testing['X']\n",
        "y_test = testing['y']\n",
        "\n",
        "x_validation = validate['X']\n",
        "y_validation = validate['y']\n",
        "# Dense = fully connected layer\n",
        "model = keras.Sequential([\n",
        "    keras.layers.Dense(24, activation='relu', input_shape=(1,1)),\n",
        "    keras.layers.Dense(1, activation='relu')\n",
        "])\n",
        "\n",
        "print(len(x_test))\n",
        "model.compile(optimizer='adam',\n",
        "              loss='MSE')\n",
        "\n",
        "model.fit(x_train, y_train, epochs=20, batch_size=12)\n",
        "# print(model.fit)\n",
        "\n",
        "test_loss = model.evaluate(x_test, y_test)\n",
        "\n",
        "\n",
        "y_predicted = model.predict(x_test)\n",
        "print(y_predicted)\n",
        "ypred = {'y_pred': y_predicted.reshape(len(x_test), )}\n",
        "y_predicted = pd.DataFrame(data=ypred)\n",
        "\n",
        "\n",
        "plt.title('Actual data')\n",
        "plt.plot(x_test, y_test, 'r*')\n",
        "plt.show()\n",
        "\n",
        "plt.title('Predicted data')\n",
        "plt.plot(x_test, y_predicted, 'r*')\n",
        "plt.show()\n",
        "\n",
        "mae, mse, rmse =  calc_error(x_train,y_test,  y_predicted)\n",
        "print(f\"Mae : {mae}\")\n",
        "print(f\"MSE : {mse}\")\n",
        "print(f\"RMSE : {rmse}\")"
      ],
      "metadata": {
        "colab": {
          "base_uri": "https://localhost:8080/",
          "height": 1000
        },
        "id": "Fe5anWXrcxgP",
        "outputId": "022f6f9e-2337-4a66-8d1d-daac477c2000"
      },
      "execution_count": null,
      "outputs": [
        {
          "output_type": "stream",
          "name": "stdout",
          "text": [
            "             X         y\n",
            "0     0.000000  0.000000\n",
            "1     0.000111  0.000209\n",
            "2     0.000222  0.000418\n",
            "3     0.000333  0.000628\n",
            "4     0.000444  0.000837\n",
            "...        ...       ...\n",
            "8995  0.999556  0.999861\n",
            "8996  0.999667  0.999896\n",
            "8997  0.999778  0.999931\n",
            "8998  0.999889  0.999965\n",
            "8999  1.000000  1.000000\n",
            "\n",
            "[9000 rows x 2 columns]\n",
            "6000\n",
            "Epoch 1/20\n",
            "750/750 [==============================] - 1s 1ms/step - loss: 24.9207\n",
            "Epoch 2/20\n",
            "750/750 [==============================] - 1s 1ms/step - loss: 2.0340\n",
            "Epoch 3/20\n",
            "750/750 [==============================] - 1s 1ms/step - loss: 1.4530\n",
            "Epoch 4/20\n",
            "750/750 [==============================] - 1s 1ms/step - loss: 0.6509\n",
            "Epoch 5/20\n",
            "750/750 [==============================] - 1s 1ms/step - loss: 0.1409\n",
            "Epoch 6/20\n",
            "750/750 [==============================] - 1s 1ms/step - loss: 0.0169\n",
            "Epoch 7/20\n",
            "750/750 [==============================] - 1s 1ms/step - loss: 0.0069\n",
            "Epoch 8/20\n",
            "750/750 [==============================] - 1s 1ms/step - loss: 0.0047\n",
            "Epoch 9/20\n",
            "750/750 [==============================] - 1s 1ms/step - loss: 0.0022\n",
            "Epoch 10/20\n",
            "750/750 [==============================] - 1s 1ms/step - loss: 0.0014\n",
            "Epoch 11/20\n",
            "750/750 [==============================] - 1s 1ms/step - loss: 0.0012\n",
            "Epoch 12/20\n",
            "750/750 [==============================] - 1s 1ms/step - loss: 0.0010\n",
            "Epoch 13/20\n",
            "750/750 [==============================] - 1s 1ms/step - loss: 8.4222e-04\n",
            "Epoch 14/20\n",
            "750/750 [==============================] - 1s 1ms/step - loss: 7.0309e-04\n",
            "Epoch 15/20\n",
            "750/750 [==============================] - 1s 1ms/step - loss: 5.9841e-04\n",
            "Epoch 16/20\n",
            "750/750 [==============================] - 1s 1ms/step - loss: 5.8376e-04\n",
            "Epoch 17/20\n",
            "750/750 [==============================] - 1s 1ms/step - loss: 5.4886e-04\n",
            "Epoch 18/20\n",
            "750/750 [==============================] - 1s 1ms/step - loss: 5.5053e-04\n",
            "Epoch 19/20\n",
            "750/750 [==============================] - 1s 1ms/step - loss: 5.4233e-04\n",
            "Epoch 20/20\n",
            "750/750 [==============================] - 1s 1ms/step - loss: 5.4898e-04\n",
            "188/188 [==============================] - 0s 1ms/step - loss: 0.4521\n",
            "188/188 [==============================] - 0s 878us/step\n",
            "[[[9.848108]]\n",
            "\n",
            " [[9.84795 ]]\n",
            "\n",
            " [[9.847792]]\n",
            "\n",
            " ...\n",
            "\n",
            " [[8.89917 ]]\n",
            "\n",
            " [[8.899012]]\n",
            "\n",
            " [[8.898853]]]\n"
          ]
        },
        {
          "output_type": "display_data",
          "data": {
            "text/plain": [
              "<Figure size 432x288 with 1 Axes>"
            ],
            "image/png": "[encoded data removed]"
          },
          "metadata": {
            "needs_background": "light"
          }
        },
        {
          "output_type": "display_data",
          "data": {
            "text/plain": [
              "<Figure size 432x288 with 1 Axes>"
            ],
            "image/png": "[encoded data removed]"
          },
          "metadata": {
            "needs_background": "light"
          }
        },
        {
          "output_type": "stream",
          "name": "stdout",
          "text": [
            "Mae : 0.6008736161384391\n",
            "MSE : 0.45212910501193776\n",
            "RMSE : 0.6724054617653977\n"
          ]
        }
      ]
    },
    {
      "cell_type": "markdown",
      "source": [
        "**Case 3:** un-shuffled and unscaled data.\n",
        "**Activation = tanh**"
      ],
      "metadata": {
        "id": "tSTcSGp78_I_"
      }
    },
    {
      "cell_type": "code",
      "source": [
        "\n",
        "  \n",
        "x_train = training['X']\n",
        "y_train = training['y']\n",
        "print(train)\n",
        "x_test = testing['X']\n",
        "y_test = testing['y']\n",
        "\n",
        "x_validation = validate['X']\n",
        "y_validation = validate['y']\n",
        "# Dense = fully connected layer\n",
        "model = keras.Sequential([\n",
        "    keras.layers.Dense(12, activation='tanh', input_shape=(1,1)),\n",
        "    keras.layers.Dense(8, activation='tanh'),\n",
        "    keras.layers.Dense(4, activation='tanh'),\n",
        "    keras.layers.Dense(1, activation='linear')\n",
        "])\n",
        "\n",
        "print(len(x_test))\n",
        "model.compile(optimizer='adam',\n",
        "              loss='MSE')\n",
        "\n",
        "model.fit(x_train, y_train, epochs=20, batch_size=12)\n",
        "# print(model.fit)\n",
        "\n",
        "test_loss = model.evaluate(x_test, y_test)\n",
        "\n",
        "\n",
        "y_predicted = model.predict(x_test)\n",
        "print(y_predicted)\n",
        "ypred = {'y_pred': y_predicted.reshape(len(x_test), )}\n",
        "y_predicted = pd.DataFrame(data=ypred)\n",
        "\n",
        "\n",
        "plt.title('Actual data')\n",
        "plt.plot(x_test, y_test, 'r*')\n",
        "plt.show()\n",
        "\n",
        "plt.title('Predicted data')\n",
        "plt.plot(x_test, y_predicted, 'r*')\n",
        "plt.show()\n",
        "\n",
        "mae, mse, rmse =  calc_error(x_train,y_test,  y_predicted)\n",
        "print(f\"Mae : {mae}\")\n",
        "print(f\"MSE : {mse}\")\n",
        "print(f\"RMSE : {rmse}\")"
      ],
      "metadata": {
        "colab": {
          "base_uri": "https://localhost:8080/",
          "height": 1000
        },
        "id": "HcsHp7nr240V",
        "outputId": "dfe5c539-8aa8-44ef-b02b-05a0c683d09b"
      },
      "execution_count": null,
      "outputs": [
        {
          "output_type": "stream",
          "name": "stdout",
          "text": [
            "             X         y\n",
            "0     0.000000  0.000000\n",
            "1     0.000111  0.000209\n",
            "2     0.000222  0.000418\n",
            "3     0.000333  0.000628\n",
            "4     0.000444  0.000837\n",
            "...        ...       ...\n",
            "8995  0.999556  0.999861\n",
            "8996  0.999667  0.999896\n",
            "8997  0.999778  0.999931\n",
            "8998  0.999889  0.999965\n",
            "8999  1.000000  1.000000\n",
            "\n",
            "[9000 rows x 2 columns]\n",
            "6000\n",
            "Epoch 1/20\n",
            "750/750 [==============================] - 3s 2ms/step - loss: 33.1243\n",
            "Epoch 2/20\n",
            "750/750 [==============================] - 2s 3ms/step - loss: 6.9822\n",
            "Epoch 3/20\n",
            "750/750 [==============================] - 2s 2ms/step - loss: 1.0615\n",
            "Epoch 4/20\n",
            "750/750 [==============================] - 1s 1ms/step - loss: 0.2543\n",
            "Epoch 5/20\n",
            "750/750 [==============================] - 1s 1ms/step - loss: 0.2136\n",
            "Epoch 6/20\n",
            "750/750 [==============================] - 1s 1ms/step - loss: 0.2131\n",
            "Epoch 7/20\n",
            "750/750 [==============================] - 1s 1ms/step - loss: 0.2130\n",
            "Epoch 8/20\n",
            "750/750 [==============================] - 1s 1ms/step - loss: 0.2130\n",
            "Epoch 9/20\n",
            "750/750 [==============================] - 1s 1ms/step - loss: 0.2128\n",
            "Epoch 10/20\n",
            "750/750 [==============================] - 1s 1ms/step - loss: 0.2128\n",
            "Epoch 11/20\n",
            "750/750 [==============================] - 1s 1ms/step - loss: 0.2126\n",
            "Epoch 12/20\n",
            "750/750 [==============================] - 1s 1ms/step - loss: 0.2127\n",
            "Epoch 13/20\n",
            "750/750 [==============================] - 1s 2ms/step - loss: 0.2126\n",
            "Epoch 14/20\n",
            "750/750 [==============================] - 1s 1ms/step - loss: 0.2127\n",
            "Epoch 15/20\n",
            "750/750 [==============================] - 1s 1ms/step - loss: 0.2126\n",
            "Epoch 16/20\n",
            "750/750 [==============================] - 1s 1ms/step - loss: 0.2128\n",
            "Epoch 17/20\n",
            "750/750 [==============================] - 1s 1ms/step - loss: 0.2126\n",
            "Epoch 18/20\n",
            "750/750 [==============================] - 1s 1ms/step - loss: 0.2126\n",
            "Epoch 19/20\n",
            "750/750 [==============================] - 1s 1ms/step - loss: 0.2124\n",
            "Epoch 20/20\n",
            "750/750 [==============================] - 1s 1ms/step - loss: 0.2126\n",
            "188/188 [==============================] - 0s 1ms/step - loss: 0.4178\n",
            "188/188 [==============================] - 0s 986us/step\n",
            "[[[9.328756]]\n",
            "\n",
            " [[9.328756]]\n",
            "\n",
            " [[9.328755]]\n",
            "\n",
            " ...\n",
            "\n",
            " [[9.328539]]\n",
            "\n",
            " [[9.328539]]\n",
            "\n",
            " [[9.328539]]]\n"
          ]
        },
        {
          "output_type": "display_data",
          "data": {
            "text/plain": [
              "<Figure size 432x288 with 1 Axes>"
            ],
            "image/png": "[encoded data removed]"
          },
          "metadata": {
            "needs_background": "light"
          }
        },
        {
          "output_type": "display_data",
          "data": {
            "text/plain": [
              "<Figure size 432x288 with 1 Axes>"
            ],
            "image/png": "[encoded data removed]"
          },
          "metadata": {
            "needs_background": "light"
          }
        },
        {
          "output_type": "stream",
          "name": "stdout",
          "text": [
            "Mae : 0.6456738456878471\n",
            "MSE : 0.41781179900611826\n",
            "RMSE : 0.6463836314497129\n"
          ]
        }
      ]
    },
    {
      "cell_type": "markdown",
      "source": [
        "**Case 4:** no-shuffled and scaled data. First, shuffle the data then split the data and finally\n",
        "scale the data (both x and y).\n",
        "**Activation = relu**"
      ],
      "metadata": {
        "id": "2f56IHqY9Z9m"
      }
    },
    {
      "cell_type": "code",
      "source": [
        "\n",
        "  \n",
        "x_train = train['X']\n",
        "y_train = train['y']\n",
        "print(train)\n",
        "x_test = test['X']\n",
        "y_test = test['y']\n",
        "\n",
        "x_validation = validation['X']\n",
        "y_validation = validation['y']\n",
        "# Dense = fully connected layer\n",
        "model = keras.Sequential([\n",
        "    keras.layers.Dense(12, activation='relu', input_shape=(1,1)),\n",
        "    keras.layers.Dense(8, activation='relu'),\n",
        "    keras.layers.Dense(4, activation='relu'),\n",
        "    keras.layers.Dense(1, activation='relu')\n",
        "])\n",
        "\n",
        "print(len(x_test))\n",
        "model.compile(optimizer='adam',\n",
        "              loss='MSE')\n",
        "\n",
        "model.fit(x_train, y_train, epochs=20, batch_size=12)\n",
        "# print(model.fit)\n",
        "\n",
        "test_loss = model.evaluate(x_test, y_test)\n",
        "\n",
        "\n",
        "y_predicted = model.predict(x_test)\n",
        "print(y_predicted)\n",
        "ypred = {'y_pred': y_predicted.reshape(len(x_test), )}\n",
        "y_predicted = pd.DataFrame(data=ypred)\n",
        "\n",
        "\n",
        "plt.title('Actual data')\n",
        "plt.plot(x_test, y_test, 'r*')\n",
        "plt.show()\n",
        "\n",
        "plt.title('Predicted data')\n",
        "plt.plot(x_test, y_predicted, 'r*')\n",
        "plt.show()\n",
        "\n",
        "mae, mse, rmse =  calc_error(x_train,y_test,  y_predicted)\n",
        "print(f\"Mae : {mae}\")\n",
        "print(f\"MSE : {mse}\")\n",
        "print(f\"RMSE : {rmse}\")"
      ],
      "metadata": {
        "colab": {
          "base_uri": "https://localhost:8080/",
          "height": 1000
        },
        "id": "PlkZzieu9PKM",
        "outputId": "751c1154-6557-4602-87df-1cd7bba0d7fd"
      },
      "execution_count": null,
      "outputs": [
        {
          "output_type": "stream",
          "name": "stdout",
          "text": [
            "             X         y\n",
            "0     0.000000  0.000000\n",
            "1     0.000111  0.000209\n",
            "2     0.000222  0.000418\n",
            "3     0.000333  0.000628\n",
            "4     0.000444  0.000837\n",
            "...        ...       ...\n",
            "8995  0.999556  0.999861\n",
            "8996  0.999667  0.999896\n",
            "8997  0.999778  0.999931\n",
            "8998  0.999889  0.999965\n",
            "8999  1.000000  1.000000\n",
            "\n",
            "[9000 rows x 2 columns]\n",
            "6000\n",
            "Epoch 1/20\n",
            "750/750 [==============================] - 2s 2ms/step - loss: 0.0064\n",
            "Epoch 2/20\n",
            "750/750 [==============================] - 1s 2ms/step - loss: 1.8515e-04\n",
            "Epoch 3/20\n",
            "750/750 [==============================] - 1s 1ms/step - loss: 6.3298e-05\n",
            "Epoch 4/20\n",
            "750/750 [==============================] - 1s 1ms/step - loss: 2.7913e-05\n",
            "Epoch 5/20\n",
            "750/750 [==============================] - 1s 1ms/step - loss: 1.6219e-05\n",
            "Epoch 6/20\n",
            "750/750 [==============================] - 1s 1ms/step - loss: 1.2889e-05\n",
            "Epoch 7/20\n",
            "750/750 [==============================] - 1s 1ms/step - loss: 1.2530e-05\n",
            "Epoch 8/20\n",
            "750/750 [==============================] - 1s 1ms/step - loss: 1.2629e-05\n",
            "Epoch 9/20\n",
            "750/750 [==============================] - 1s 1ms/step - loss: 1.3967e-05\n",
            "Epoch 10/20\n",
            "750/750 [==============================] - 1s 1ms/step - loss: 1.2848e-05\n",
            "Epoch 11/20\n",
            "750/750 [==============================] - 1s 1ms/step - loss: 1.2571e-05\n",
            "Epoch 12/20\n",
            "750/750 [==============================] - 1s 1ms/step - loss: 1.2170e-05\n",
            "Epoch 13/20\n",
            "750/750 [==============================] - 1s 1ms/step - loss: 1.2028e-05\n",
            "Epoch 14/20\n",
            "750/750 [==============================] - 1s 1ms/step - loss: 1.1313e-05\n",
            "Epoch 15/20\n",
            "750/750 [==============================] - 1s 2ms/step - loss: 1.0683e-05\n",
            "Epoch 16/20\n",
            "750/750 [==============================] - 1s 1ms/step - loss: 1.1088e-05\n",
            "Epoch 17/20\n",
            "750/750 [==============================] - 1s 1ms/step - loss: 1.0371e-05\n",
            "Epoch 18/20\n",
            "750/750 [==============================] - 1s 1ms/step - loss: 1.0883e-05\n",
            "Epoch 19/20\n",
            "750/750 [==============================] - 1s 1ms/step - loss: 1.0413e-05\n",
            "Epoch 20/20\n",
            "750/750 [==============================] - 1s 1ms/step - loss: 1.2674e-05\n",
            "188/188 [==============================] - 0s 1ms/step - loss: 0.0562\n",
            "188/188 [==============================] - 0s 962us/step\n",
            "[[[0.00620331]]\n",
            "\n",
            " [[0.0063301 ]]\n",
            "\n",
            " [[0.00655043]]\n",
            "\n",
            " ...\n",
            "\n",
            " [[1.0078683 ]]\n",
            "\n",
            " [[1.0079406 ]]\n",
            "\n",
            " [[1.008013  ]]]\n"
          ]
        },
        {
          "output_type": "display_data",
          "data": {
            "text/plain": [
              "<Figure size 432x288 with 1 Axes>"
            ],
            "image/png": "[encoded data removed]"
          },
          "metadata": {
            "needs_background": "light"
          }
        },
        {
          "output_type": "display_data",
          "data": {
            "text/plain": [
              "<Figure size 432x288 with 1 Axes>"
            ],
            "image/png": "[encoded data removed]"
          },
          "metadata": {
            "needs_background": "light"
          }
        },
        {
          "output_type": "stream",
          "name": "stdout",
          "text": [
            "Mae : 0.216698377496201\n",
            "MSE : 0.056219337750928\n",
            "RMSE : 0.23710617400423803\n"
          ]
        }
      ]
    },
    {
      "cell_type": "markdown",
      "source": [
        "**Case 5:** Use shuffled and scaled data. First, shuffle the data then split the data and finally\n",
        "scale the data (both x and y).\n",
        "**Activation = tanh**"
      ],
      "metadata": {
        "id": "VPeZdfM_cFcP"
      }
    },
    {
      "cell_type": "code",
      "source": [
        "\n",
        "  \n",
        "x_train = train['X']\n",
        "y_train = train['y']\n",
        "print(train)\n",
        "x_test = test['X']\n",
        "y_test = test['y']\n",
        "\n",
        "x_validation = validation['X']\n",
        "y_validation = validation['y']\n",
        "# Dense = fully connected layer\n",
        "model = keras.Sequential([\n",
        "    keras.layers.Dense(12, activation='tanh', input_shape=(1,1)),\n",
        "    keras.layers.Dense(8, activation='tanh'),\n",
        "    keras.layers.Dense(4, activation='tanh'),\n",
        "    keras.layers.Dense(1, activation='tanh')\n",
        "])\n",
        "\n",
        "print(len(x_test))\n",
        "model.compile(optimizer='adam',\n",
        "              loss='MSE')\n",
        "\n",
        "model.fit(x_train, y_train, epochs=20, batch_size=12)\n",
        "# print(model.fit)\n",
        "\n",
        "test_loss = model.evaluate(x_test, y_test)\n",
        "\n",
        "\n",
        "y_predicted = model.predict(x_test)\n",
        "print(y_predicted)\n",
        "ypred = {'y_pred': y_predicted.reshape(len(x_test), )}\n",
        "y_predicted = pd.DataFrame(data=ypred)\n",
        "\n",
        "\n",
        "plt.title('Actual data')\n",
        "plt.plot(x_test, y_test, 'r*')\n",
        "plt.show()\n",
        "\n",
        "plt.title('Predicted data')\n",
        "plt.plot(x_test, y_predicted, 'r*')\n",
        "plt.show()\n",
        "\n",
        "mae, mse, rmse =  calc_error(x_train,y_test,  y_predicted)\n",
        "print(f\"Mae : {mae}\")\n",
        "print(f\"MSE : {mse}\")\n",
        "print(f\"RMSE : {rmse}\")"
      ],
      "metadata": {
        "id": "L17h6jyZ9qtJ",
        "colab": {
          "base_uri": "https://localhost:8080/",
          "height": 1000
        },
        "outputId": "b75d03d7-e7ac-4141-948e-9b0c8dc306a0"
      },
      "execution_count": null,
      "outputs": [
        {
          "output_type": "stream",
          "name": "stdout",
          "text": [
            "             X         y\n",
            "0     0.000000  0.000000\n",
            "1     0.000111  0.000209\n",
            "2     0.000222  0.000418\n",
            "3     0.000333  0.000628\n",
            "4     0.000444  0.000837\n",
            "...        ...       ...\n",
            "8995  0.999556  0.999861\n",
            "8996  0.999667  0.999896\n",
            "8997  0.999778  0.999931\n",
            "8998  0.999889  0.999965\n",
            "8999  1.000000  1.000000\n",
            "\n",
            "[9000 rows x 2 columns]\n",
            "6000\n",
            "Epoch 1/20\n",
            "750/750 [==============================] - 2s 2ms/step - loss: 0.0286\n",
            "Epoch 2/20\n",
            "750/750 [==============================] - 1s 2ms/step - loss: 0.0020\n",
            "Epoch 3/20\n",
            "750/750 [==============================] - 2s 2ms/step - loss: 0.0014\n",
            "Epoch 4/20\n",
            "750/750 [==============================] - 2s 2ms/step - loss: 7.8800e-04\n",
            "Epoch 5/20\n",
            "750/750 [==============================] - 1s 2ms/step - loss: 4.0129e-04\n",
            "Epoch 6/20\n",
            "750/750 [==============================] - 1s 2ms/step - loss: 2.6255e-04\n",
            "Epoch 7/20\n",
            "750/750 [==============================] - 1s 2ms/step - loss: 1.6169e-04\n",
            "Epoch 8/20\n",
            "750/750 [==============================] - 1s 2ms/step - loss: 8.3821e-05\n",
            "Epoch 9/20\n",
            "750/750 [==============================] - 1s 2ms/step - loss: 5.1954e-05\n",
            "Epoch 10/20\n",
            "750/750 [==============================] - 1s 2ms/step - loss: 4.0058e-05\n",
            "Epoch 11/20\n",
            "750/750 [==============================] - 1s 2ms/step - loss: 3.0935e-05\n",
            "Epoch 12/20\n",
            "750/750 [==============================] - 1s 2ms/step - loss: 2.3148e-05\n",
            "Epoch 13/20\n",
            "750/750 [==============================] - 2s 2ms/step - loss: 1.7210e-05\n",
            "Epoch 14/20\n",
            "750/750 [==============================] - 2s 2ms/step - loss: 1.3307e-05\n",
            "Epoch 15/20\n",
            "750/750 [==============================] - 1s 2ms/step - loss: 1.0570e-05\n",
            "Epoch 16/20\n",
            "750/750 [==============================] - 1s 2ms/step - loss: 8.3372e-06\n",
            "Epoch 17/20\n",
            "750/750 [==============================] - 1s 2ms/step - loss: 6.7997e-06\n",
            "Epoch 18/20\n",
            "750/750 [==============================] - 1s 2ms/step - loss: 5.1546e-06\n",
            "Epoch 19/20\n",
            "750/750 [==============================] - 1s 2ms/step - loss: 9.0528e-06\n",
            "Epoch 20/20\n",
            "750/750 [==============================] - 1s 2ms/step - loss: 4.1127e-06\n",
            "188/188 [==============================] - 1s 1ms/step - loss: 0.0551\n",
            "188/188 [==============================] - 0s 1ms/step\n",
            "[[[-0.00636085]]\n",
            "\n",
            " [[-0.00604686]]\n",
            "\n",
            " [[-0.00573288]]\n",
            "\n",
            " ...\n",
            "\n",
            " [[ 0.9888641 ]]\n",
            "\n",
            " [[ 0.98888355]]\n",
            "\n",
            " [[ 0.9889028 ]]]\n"
          ]
        },
        {
          "output_type": "display_data",
          "data": {
            "text/plain": [
              "<Figure size 432x288 with 1 Axes>"
            ],
            "image/png": "[encoded data removed]"
          },
          "metadata": {
            "needs_background": "light"
          }
        },
        {
          "output_type": "display_data",
          "data": {
            "text/plain": [
              "<Figure size 432x288 with 1 Axes>"
            ],
            "image/png": "[encoded data removed]"
          },
          "metadata": {
            "needs_background": "light"
          }
        },
        {
          "output_type": "stream",
          "name": "stdout",
          "text": [
            "Mae : 0.21350965320144186\n",
            "MSE : 0.05507952897131019\n",
            "RMSE : 0.23469028307816706\n"
          ]
        }
      ]
    },
    {
      "cell_type": "markdown",
      "source": [
        "**Case 6** Neural Network for xor function\n",
        "\n",
        "**Assumptions: **\n",
        "- Epochs: 2500\n",
        "- learning rate (alpha) = 0.2\n",
        "- Hidden Layers: 1 \n",
        "- 4 neurons fully connected\n",
        "- 1 output"
      ],
      "metadata": {
        "id": "F-MVqH-OdP3y"
      }
    },
    {
      "cell_type": "code",
      "source": [
        "X = np.array([[0, 0], [0, 1], [1, 0], [1, 1]])\n",
        "y = np.array([[0], [1], [1], [0]])\n",
        "\n",
        "def sigmoid(x):\n",
        "    return 1 / (1 + np.exp(-x))\n",
        "\n",
        "#Used for back propagation\n",
        "def sigmoid_derivative(x):\n",
        "    return x * (1 - x)\n",
        "\n",
        "epochs = 2500\n",
        "learning_rate = 0.3\n",
        "input_neurons = 2\n",
        "hidden_neurons = 4\n",
        "output_neurons = 1\n",
        "\n",
        "input_weights = np.array([[0.698, 0.689, 0.169, 0.821], [0.169, 0.161, 0.634, 0.292]])\n",
        "\n",
        "hidden_weights = np.array([[0.945], [0.250], [0.435], [0.191]])\n",
        "\n",
        "input_bias = np.random.uniform(size=(1, hidden_neurons))\n",
        "hidden_bias = np.array([[0.28414861]])\n",
        "\n",
        "for i in range(epochs):\n",
        "    # Forward Propagation\n",
        "    hidden_layer_activation = sigmoid(np.dot(X, input_weights) + input_bias)\n",
        "    output_layer_activation = sigmoid(np.dot(hidden_layer_activation, hidden_weights) + hidden_bias)\n",
        "\n",
        "    # Backpropagation\n",
        "    error = y - output_layer_activation\n",
        "    output_layer_derivative = sigmoid_derivative(output_layer_activation)\n",
        "    hidden_layer_derivative = sigmoid_derivative(hidden_layer_activation)\n",
        "    output_layer_error = error * output_layer_derivative\n",
        "    hidden_layer_error = np.dot(output_layer_error, hidden_weights.T) * hidden_layer_derivative\n",
        "\n",
        "    # Update Weights and Biases\n",
        "    hidden_weights += np.dot(hidden_layer_activation.T, output_layer_error) * learning_rate\n",
        "    input_weights += np.dot(X.T, hidden_layer_error) * learning_rate\n",
        "    hidden_bias += np.sum(output_layer_error, axis=0, keepdims=True) * learning_rate\n",
        "    input_bias += np.sum(hidden_layer_error, axis=0, keepdims=True) * learning_rate\n",
        "\n",
        "\n",
        "\n",
        "\n",
        "hidden_layer_activation = sigmoid(np.dot(X, input_weights) + input_bias)\n",
        "output_layer_activation = sigmoid(np.dot(hidden_layer_activation, hidden_weights) + hidden_bias)\n",
        "print(\"Predictions:\", output_layer_activation)\n",
        "\n",
        "print(\"if pred < 0.2 assumption = 0 \")\n",
        "print(\"else pred = 1\")"
      ],
      "metadata": {
        "colab": {
          "base_uri": "https://localhost:8080/"
        },
        "id": "3IuE-p0scP0t",
        "outputId": "87ce43de-920a-4a89-d017-3a0f82d589a4"
      },
      "execution_count": null,
      "outputs": [
        {
          "output_type": "stream",
          "name": "stdout",
          "text": [
            "Predictions: [[0.05319272]\n",
            " [0.9167962 ]\n",
            " [0.92331695]\n",
            " [0.09396145]]\n",
            "if pred < 0.2 assumption = 0 \n",
            "else pred = 1\n"
          ]
        }
      ]
    },
    {
      "cell_type": "code",
      "source": [],
      "metadata": {
        "id": "6XIDN4hcd3gi"
      },
      "execution_count": null,
      "outputs": []
    }
  ]
}